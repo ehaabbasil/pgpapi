{
  "nbformat": 4,
  "nbformat_minor": 0,
  "metadata": {
    "kernelspec": {
      "display_name": "Python 3",
      "language": "python",
      "name": "python3"
    },
    "language_info": {
      "codemirror_mode": {
        "name": "ipython",
        "version": 3
      },
      "file_extension": ".py",
      "mimetype": "text/x-python",
      "name": "python",
      "nbconvert_exporter": "python",
      "pygments_lexer": "ipython3",
      "version": "3.8.5"
    },
    "colab": {
      "name": "DATA LEVEL3.ipynb",
      "provenance": [],
      "collapsed_sections": [],
      "include_colab_link": true
    }
  },
  "cells": [
    {
      "cell_type": "markdown",
      "metadata": {
        "id": "view-in-github",
        "colab_type": "text"
      },
      "source": [
        "<a href=\"https://colab.research.google.com/github/ehaabbasil/pgpapi/blob/master/%23TEAM36%20Data%20Challenge%20Escooter%20Level_3.ipynb\" target=\"_parent\"><img src=\"https://colab.research.google.com/assets/colab-badge.svg\" alt=\"Open In Colab\"/></a>"
      ]
    },
    {
      "cell_type": "code",
      "metadata": {
        "colab": {
          "base_uri": "https://localhost:8080/"
        },
        "id": "xDp8WhOP1WPz",
        "outputId": "11ec1d8c-631f-4bb2-bfd3-b1577d755fba"
      },
      "source": [
        "from google.colab import drive\n",
        "drive.mount('/content/drive')"
      ],
      "execution_count": null,
      "outputs": [
        {
          "output_type": "stream",
          "text": [
            "Mounted at /content/drive\n"
          ],
          "name": "stdout"
        }
      ]
    },
    {
      "cell_type": "code",
      "metadata": {
        "id": "0KqSZcb01SH2",
        "colab": {
          "base_uri": "https://localhost:8080/",
          "height": 35
        },
        "outputId": "501cb42f-0f14-4539-b9cf-81b8974ac6a0"
      },
      "source": [
        "import pandas as pd\n",
        "import pandas as pd \n",
        "import numpy as np\n",
        "import matplotlib.pyplot as plt\n",
        "%matplotlib inline \n",
        "\n",
        "#main_dir_usama = '/content/drive/MyDrive/University of Maryland/Spring_2021/Data_Lv3_UMDOTS_Escooters.csv'\n",
        "ehaab = '/content/drive/MyDrive/TEAM36/Data_Lv3_UMDOTS_Escooters.csv'\n",
        "pd.__version__"
      ],
      "execution_count": null,
      "outputs": [
        {
          "output_type": "execute_result",
          "data": {
            "application/vnd.google.colaboratory.intrinsic+json": {
              "type": "string"
            },
            "text/plain": [
              "'1.1.5'"
            ]
          },
          "metadata": {
            "tags": []
          },
          "execution_count": 3
        }
      ]
    },
    {
      "cell_type": "markdown",
      "metadata": {
        "id": "un6uOOtGuDjj"
      },
      "source": [
        "# New section"
      ]
    },
    {
      "cell_type": "code",
      "metadata": {
        "id": "GY_RSUp81SH4"
      },
      "source": [
        "#df = pd.read_csv(main_dir_usama)\n",
        "df = pd.read_csv(ehaab)"
      ],
      "execution_count": null,
      "outputs": []
    },
    {
      "cell_type": "code",
      "metadata": {
        "id": "o1fzwrPJ1SH_",
        "colab": {
          "base_uri": "https://localhost:8080/",
          "height": 496
        },
        "outputId": "f96eece9-a9c4-4ef7-952e-8ab2286f5710"
      },
      "source": [
        "df.head()"
      ],
      "execution_count": null,
      "outputs": [
        {
          "output_type": "execute_result",
          "data": {
            "text/html": [
              "<div>\n",
              "<style scoped>\n",
              "    .dataframe tbody tr th:only-of-type {\n",
              "        vertical-align: middle;\n",
              "    }\n",
              "\n",
              "    .dataframe tbody tr th {\n",
              "        vertical-align: top;\n",
              "    }\n",
              "\n",
              "    .dataframe thead th {\n",
              "        text-align: right;\n",
              "    }\n",
              "</style>\n",
              "<table border=\"1\" class=\"dataframe\">\n",
              "  <thead>\n",
              "    <tr style=\"text-align: right;\">\n",
              "      <th></th>\n",
              "      <th>Unnamed: 0</th>\n",
              "      <th>Unnamed: 0.1</th>\n",
              "      <th>CREATED</th>\n",
              "      <th>START</th>\n",
              "      <th>END</th>\n",
              "      <th>DISTANCE</th>\n",
              "      <th>RIDE_ID</th>\n",
              "      <th>CUSTOMER_ID</th>\n",
              "      <th>MINUTES</th>\n",
              "      <th>VEHICLE_TYPE</th>\n",
              "      <th>PATH</th>\n",
              "      <th>TIMESTAMPS</th>\n",
              "      <th>START LONG</th>\n",
              "      <th>START LAT</th>\n",
              "      <th>END LONG</th>\n",
              "      <th>END LAT</th>\n",
              "    </tr>\n",
              "  </thead>\n",
              "  <tbody>\n",
              "    <tr>\n",
              "      <th>0</th>\n",
              "      <td>0</td>\n",
              "      <td>0</td>\n",
              "      <td>2020-10-03 03:32:15+00:00</td>\n",
              "      <td>2020-10-03 03:32:15+00:00</td>\n",
              "      <td>2020-10-03 03:32:46+00:00</td>\n",
              "      <td>0.008</td>\n",
              "      <td>3135665</td>\n",
              "      <td>193964</td>\n",
              "      <td>1</td>\n",
              "      <td>Scooter</td>\n",
              "      <td>{\\n  \"coordinates\": [\\n    [\\n      -76.934163...</td>\n",
              "      <td>[\\n  \"2020-10-03T03:32:14Z\",\\n  \"2020-10-03T03...</td>\n",
              "      <td>-76.934163</td>\n",
              "      <td>38.990656</td>\n",
              "      <td>-76.934285</td>\n",
              "      <td>38.990739</td>\n",
              "    </tr>\n",
              "    <tr>\n",
              "      <th>1</th>\n",
              "      <td>1</td>\n",
              "      <td>1</td>\n",
              "      <td>2020-10-03 03:07:39+00:00</td>\n",
              "      <td>2020-10-03 03:07:39+00:00</td>\n",
              "      <td>2020-10-03 03:37:06+00:00</td>\n",
              "      <td>1.062</td>\n",
              "      <td>3135395</td>\n",
              "      <td>542947</td>\n",
              "      <td>30</td>\n",
              "      <td>Scooter</td>\n",
              "      <td>{\\n  \"coordinates\": [\\n    [\\n      -76.938180...</td>\n",
              "      <td>[\\n  \"2020-10-03T03:07:46Z\",\\n  \"2020-10-03T03...</td>\n",
              "      <td>-76.938181</td>\n",
              "      <td>38.982087</td>\n",
              "      <td>-76.949165</td>\n",
              "      <td>38.992849</td>\n",
              "    </tr>\n",
              "    <tr>\n",
              "      <th>2</th>\n",
              "      <td>2</td>\n",
              "      <td>2</td>\n",
              "      <td>2020-10-03 03:17:05+00:00</td>\n",
              "      <td>2020-10-03 03:17:05+00:00</td>\n",
              "      <td>2020-10-03 03:24:24+00:00</td>\n",
              "      <td>0.847</td>\n",
              "      <td>3135503</td>\n",
              "      <td>517321</td>\n",
              "      <td>8</td>\n",
              "      <td>Scooter</td>\n",
              "      <td>{\\n  \"coordinates\": [\\n    [\\n      -76.937599...</td>\n",
              "      <td>[\\n  \"2020-10-03T03:17:12Z\",\\n  \"2020-10-03T03...</td>\n",
              "      <td>-76.937600</td>\n",
              "      <td>38.979613</td>\n",
              "      <td>-76.933335</td>\n",
              "      <td>38.992676</td>\n",
              "    </tr>\n",
              "    <tr>\n",
              "      <th>3</th>\n",
              "      <td>3</td>\n",
              "      <td>3</td>\n",
              "      <td>2020-10-03 02:24:58+00:00</td>\n",
              "      <td>2020-10-03 02:24:58+00:00</td>\n",
              "      <td>2020-10-03 03:11:56+00:00</td>\n",
              "      <td>3.447</td>\n",
              "      <td>3134955</td>\n",
              "      <td>578051</td>\n",
              "      <td>47</td>\n",
              "      <td>Scooter</td>\n",
              "      <td>{\\n  \"coordinates\": [\\n    [\\n      -76.943553...</td>\n",
              "      <td>[\\n  \"2020-10-03T02:25:04Z\",\\n  \"2020-10-03T02...</td>\n",
              "      <td>-76.943553</td>\n",
              "      <td>38.982470</td>\n",
              "      <td>-76.943546</td>\n",
              "      <td>38.982476</td>\n",
              "    </tr>\n",
              "    <tr>\n",
              "      <th>4</th>\n",
              "      <td>4</td>\n",
              "      <td>4</td>\n",
              "      <td>2020-10-03 03:19:34+00:00</td>\n",
              "      <td>2020-10-03 03:19:34+00:00</td>\n",
              "      <td>2020-10-03 03:22:45+00:00</td>\n",
              "      <td>0.386</td>\n",
              "      <td>3135529</td>\n",
              "      <td>552305</td>\n",
              "      <td>4</td>\n",
              "      <td>Scooter</td>\n",
              "      <td>{\\n  \"coordinates\": [\\n    [\\n      -76.938115...</td>\n",
              "      <td>[\\n  \"2020-10-03T03:19:40Z\",\\n  \"2020-10-03T03...</td>\n",
              "      <td>-76.938116</td>\n",
              "      <td>38.982084</td>\n",
              "      <td>-76.943257</td>\n",
              "      <td>38.986101</td>\n",
              "    </tr>\n",
              "  </tbody>\n",
              "</table>\n",
              "</div>"
            ],
            "text/plain": [
              "   Unnamed: 0  Unnamed: 0.1  ...   END LONG    END LAT\n",
              "0           0             0  ... -76.934285  38.990739\n",
              "1           1             1  ... -76.949165  38.992849\n",
              "2           2             2  ... -76.933335  38.992676\n",
              "3           3             3  ... -76.943546  38.982476\n",
              "4           4             4  ... -76.943257  38.986101\n",
              "\n",
              "[5 rows x 16 columns]"
            ]
          },
          "metadata": {
            "tags": []
          },
          "execution_count": 4
        }
      ]
    },
    {
      "cell_type": "code",
      "metadata": {
        "id": "r3U6rKgz1SIA",
        "colab": {
          "base_uri": "https://localhost:8080/"
        },
        "outputId": "d6512ccf-1d57-44e5-8298-4fc6c7d0b2bd"
      },
      "source": [
        "df.columns"
      ],
      "execution_count": null,
      "outputs": [
        {
          "output_type": "execute_result",
          "data": {
            "text/plain": [
              "Index(['Unnamed: 0', 'Unnamed: 0.1', 'CREATED', 'START', 'END', 'DISTANCE',\n",
              "       'RIDE_ID', 'CUSTOMER_ID', 'MINUTES', 'VEHICLE_TYPE', 'PATH',\n",
              "       'TIMESTAMPS', 'START LONG', 'START LAT', 'END LONG', 'END LAT'],\n",
              "      dtype='object')"
            ]
          },
          "metadata": {
            "tags": []
          },
          "execution_count": 5
        }
      ]
    },
    {
      "cell_type": "code",
      "metadata": {
        "id": "7x5VQif41SIB",
        "colab": {
          "base_uri": "https://localhost:8080/"
        },
        "outputId": "86ceb351-794e-48ce-b7ac-5195efbe9ca6"
      },
      "source": [
        "df.dtypes"
      ],
      "execution_count": null,
      "outputs": [
        {
          "output_type": "execute_result",
          "data": {
            "text/plain": [
              "Unnamed: 0        int64\n",
              "Unnamed: 0.1      int64\n",
              "CREATED          object\n",
              "START            object\n",
              "END              object\n",
              "DISTANCE        float64\n",
              "RIDE_ID           int64\n",
              "CUSTOMER_ID       int64\n",
              "MINUTES           int64\n",
              "VEHICLE_TYPE     object\n",
              "PATH             object\n",
              "TIMESTAMPS       object\n",
              "START LONG      float64\n",
              "START LAT       float64\n",
              "END LONG        float64\n",
              "END LAT         float64\n",
              "dtype: object"
            ]
          },
          "metadata": {
            "tags": []
          },
          "execution_count": 6
        }
      ]
    },
    {
      "cell_type": "code",
      "metadata": {
        "id": "6Ez5rF971SID"
      },
      "source": [
        "del df['Unnamed: 0']"
      ],
      "execution_count": null,
      "outputs": []
    },
    {
      "cell_type": "code",
      "metadata": {
        "id": "4P014Esg1SID"
      },
      "source": [
        "del df['Unnamed: 0.1']"
      ],
      "execution_count": null,
      "outputs": []
    },
    {
      "cell_type": "code",
      "metadata": {
        "id": "kYWvPd9_1SIE",
        "colab": {
          "base_uri": "https://localhost:8080/",
          "height": 496
        },
        "outputId": "9cb67152-e802-4e79-e5fd-0583cb1a086e"
      },
      "source": [
        "df.head()"
      ],
      "execution_count": null,
      "outputs": [
        {
          "output_type": "execute_result",
          "data": {
            "text/html": [
              "<div>\n",
              "<style scoped>\n",
              "    .dataframe tbody tr th:only-of-type {\n",
              "        vertical-align: middle;\n",
              "    }\n",
              "\n",
              "    .dataframe tbody tr th {\n",
              "        vertical-align: top;\n",
              "    }\n",
              "\n",
              "    .dataframe thead th {\n",
              "        text-align: right;\n",
              "    }\n",
              "</style>\n",
              "<table border=\"1\" class=\"dataframe\">\n",
              "  <thead>\n",
              "    <tr style=\"text-align: right;\">\n",
              "      <th></th>\n",
              "      <th>CREATED</th>\n",
              "      <th>START</th>\n",
              "      <th>END</th>\n",
              "      <th>DISTANCE</th>\n",
              "      <th>RIDE_ID</th>\n",
              "      <th>CUSTOMER_ID</th>\n",
              "      <th>MINUTES</th>\n",
              "      <th>VEHICLE_TYPE</th>\n",
              "      <th>PATH</th>\n",
              "      <th>TIMESTAMPS</th>\n",
              "      <th>START LONG</th>\n",
              "      <th>START LAT</th>\n",
              "      <th>END LONG</th>\n",
              "      <th>END LAT</th>\n",
              "    </tr>\n",
              "  </thead>\n",
              "  <tbody>\n",
              "    <tr>\n",
              "      <th>0</th>\n",
              "      <td>2020-10-03 03:32:15+00:00</td>\n",
              "      <td>2020-10-03 03:32:15+00:00</td>\n",
              "      <td>2020-10-03 03:32:46+00:00</td>\n",
              "      <td>0.008</td>\n",
              "      <td>3135665</td>\n",
              "      <td>193964</td>\n",
              "      <td>1</td>\n",
              "      <td>Scooter</td>\n",
              "      <td>{\\n  \"coordinates\": [\\n    [\\n      -76.934163...</td>\n",
              "      <td>[\\n  \"2020-10-03T03:32:14Z\",\\n  \"2020-10-03T03...</td>\n",
              "      <td>-76.934163</td>\n",
              "      <td>38.990656</td>\n",
              "      <td>-76.934285</td>\n",
              "      <td>38.990739</td>\n",
              "    </tr>\n",
              "    <tr>\n",
              "      <th>1</th>\n",
              "      <td>2020-10-03 03:07:39+00:00</td>\n",
              "      <td>2020-10-03 03:07:39+00:00</td>\n",
              "      <td>2020-10-03 03:37:06+00:00</td>\n",
              "      <td>1.062</td>\n",
              "      <td>3135395</td>\n",
              "      <td>542947</td>\n",
              "      <td>30</td>\n",
              "      <td>Scooter</td>\n",
              "      <td>{\\n  \"coordinates\": [\\n    [\\n      -76.938180...</td>\n",
              "      <td>[\\n  \"2020-10-03T03:07:46Z\",\\n  \"2020-10-03T03...</td>\n",
              "      <td>-76.938181</td>\n",
              "      <td>38.982087</td>\n",
              "      <td>-76.949165</td>\n",
              "      <td>38.992849</td>\n",
              "    </tr>\n",
              "    <tr>\n",
              "      <th>2</th>\n",
              "      <td>2020-10-03 03:17:05+00:00</td>\n",
              "      <td>2020-10-03 03:17:05+00:00</td>\n",
              "      <td>2020-10-03 03:24:24+00:00</td>\n",
              "      <td>0.847</td>\n",
              "      <td>3135503</td>\n",
              "      <td>517321</td>\n",
              "      <td>8</td>\n",
              "      <td>Scooter</td>\n",
              "      <td>{\\n  \"coordinates\": [\\n    [\\n      -76.937599...</td>\n",
              "      <td>[\\n  \"2020-10-03T03:17:12Z\",\\n  \"2020-10-03T03...</td>\n",
              "      <td>-76.937600</td>\n",
              "      <td>38.979613</td>\n",
              "      <td>-76.933335</td>\n",
              "      <td>38.992676</td>\n",
              "    </tr>\n",
              "    <tr>\n",
              "      <th>3</th>\n",
              "      <td>2020-10-03 02:24:58+00:00</td>\n",
              "      <td>2020-10-03 02:24:58+00:00</td>\n",
              "      <td>2020-10-03 03:11:56+00:00</td>\n",
              "      <td>3.447</td>\n",
              "      <td>3134955</td>\n",
              "      <td>578051</td>\n",
              "      <td>47</td>\n",
              "      <td>Scooter</td>\n",
              "      <td>{\\n  \"coordinates\": [\\n    [\\n      -76.943553...</td>\n",
              "      <td>[\\n  \"2020-10-03T02:25:04Z\",\\n  \"2020-10-03T02...</td>\n",
              "      <td>-76.943553</td>\n",
              "      <td>38.982470</td>\n",
              "      <td>-76.943546</td>\n",
              "      <td>38.982476</td>\n",
              "    </tr>\n",
              "    <tr>\n",
              "      <th>4</th>\n",
              "      <td>2020-10-03 03:19:34+00:00</td>\n",
              "      <td>2020-10-03 03:19:34+00:00</td>\n",
              "      <td>2020-10-03 03:22:45+00:00</td>\n",
              "      <td>0.386</td>\n",
              "      <td>3135529</td>\n",
              "      <td>552305</td>\n",
              "      <td>4</td>\n",
              "      <td>Scooter</td>\n",
              "      <td>{\\n  \"coordinates\": [\\n    [\\n      -76.938115...</td>\n",
              "      <td>[\\n  \"2020-10-03T03:19:40Z\",\\n  \"2020-10-03T03...</td>\n",
              "      <td>-76.938116</td>\n",
              "      <td>38.982084</td>\n",
              "      <td>-76.943257</td>\n",
              "      <td>38.986101</td>\n",
              "    </tr>\n",
              "  </tbody>\n",
              "</table>\n",
              "</div>"
            ],
            "text/plain": [
              "                     CREATED                      START  ...   END LONG    END LAT\n",
              "0  2020-10-03 03:32:15+00:00  2020-10-03 03:32:15+00:00  ... -76.934285  38.990739\n",
              "1  2020-10-03 03:07:39+00:00  2020-10-03 03:07:39+00:00  ... -76.949165  38.992849\n",
              "2  2020-10-03 03:17:05+00:00  2020-10-03 03:17:05+00:00  ... -76.933335  38.992676\n",
              "3  2020-10-03 02:24:58+00:00  2020-10-03 02:24:58+00:00  ... -76.943546  38.982476\n",
              "4  2020-10-03 03:19:34+00:00  2020-10-03 03:19:34+00:00  ... -76.943257  38.986101\n",
              "\n",
              "[5 rows x 14 columns]"
            ]
          },
          "metadata": {
            "tags": []
          },
          "execution_count": 9
        }
      ]
    },
    {
      "cell_type": "code",
      "metadata": {
        "id": "1vyRgv801SIE"
      },
      "source": [
        "#deleted first two unnecessary columns"
      ],
      "execution_count": null,
      "outputs": []
    },
    {
      "cell_type": "code",
      "metadata": {
        "id": "__atBixG1SIE"
      },
      "source": [
        "#now if i want to seperately keep columns "
      ],
      "execution_count": null,
      "outputs": []
    },
    {
      "cell_type": "code",
      "metadata": {
        "id": "3M9vv5m91SIF",
        "colab": {
          "base_uri": "https://localhost:8080/"
        },
        "outputId": "4ffd001c-80dd-4886-f5cd-0bf357e7ede0"
      },
      "source": [
        "s=df[['START LAT','START LONG']]\n",
        "print(s)\n",
        "x=s.value_counts()\n",
        "x\n",
        "#maximum a coordinate has occured in start lat & start long"
      ],
      "execution_count": null,
      "outputs": [
        {
          "output_type": "stream",
          "text": [
            "       START LAT  START LONG\n",
            "0      38.990656  -76.934163\n",
            "1      38.982087  -76.938181\n",
            "2      38.979613  -76.937600\n",
            "3      38.982470  -76.943553\n",
            "4      38.982084  -76.938116\n",
            "...          ...         ...\n",
            "40320  38.988110  -76.943936\n",
            "40321  38.986389  -76.935917\n",
            "40322  38.996377  -76.940231\n",
            "40323  38.991956  -76.944153\n",
            "40324  38.990645  -76.934167\n",
            "\n",
            "[40325 rows x 2 columns]\n"
          ],
          "name": "stdout"
        },
        {
          "output_type": "execute_result",
          "data": {
            "text/plain": [
              "START LAT  START LONG\n",
              "38.992447  -76.949093    20\n",
              "38.992699  -76.935208    17\n",
              "38.988723  -76.940666    14\n",
              "38.982561  -76.943550     7\n",
              "38.984513  -76.941714     5\n",
              "                         ..\n",
              "38.991116  -76.942908     1\n",
              "38.991114  -76.933588     1\n",
              "           -76.946452     1\n",
              "38.991113  -76.932574     1\n",
              "38.955716  -76.939235     1\n",
              "Length: 40039, dtype: int64"
            ]
          },
          "metadata": {
            "tags": []
          },
          "execution_count": 12
        }
      ]
    },
    {
      "cell_type": "code",
      "metadata": {
        "scrolled": true,
        "id": "Gpf-JLzG1SIF",
        "colab": {
          "base_uri": "https://localhost:8080/"
        },
        "outputId": "416c212e-d1fc-4fcd-f726-07b04e29487d"
      },
      "source": [
        "c=df[['END LAT','END LONG']]\n",
        "print(c)\n",
        "z=c.value_counts()\n",
        "z"
      ],
      "execution_count": null,
      "outputs": [
        {
          "output_type": "stream",
          "text": [
            "         END LAT   END LONG\n",
            "0      38.990739 -76.934285\n",
            "1      38.992849 -76.949165\n",
            "2      38.992676 -76.933335\n",
            "3      38.982476 -76.943546\n",
            "4      38.986101 -76.943257\n",
            "...          ...        ...\n",
            "40320  38.992061 -76.934104\n",
            "40321  38.992196 -76.933818\n",
            "40322  38.992842 -76.945600\n",
            "40323  38.987199 -76.940216\n",
            "40324  38.982452 -76.936088\n",
            "\n",
            "[40325 rows x 2 columns]\n"
          ],
          "name": "stdout"
        },
        {
          "output_type": "execute_result",
          "data": {
            "text/plain": [
              "END LAT    END LONG  \n",
              "38.992447  -76.949093    20\n",
              "38.992699  -76.935208    17\n",
              "38.988723  -76.940666    14\n",
              "38.982561  -76.943550     7\n",
              "38.984513  -76.941714     5\n",
              "                         ..\n",
              "38.991137  -76.948636     1\n",
              "38.991136  -76.933331     1\n",
              "38.991134  -76.934034     1\n",
              "38.991132  -76.934333     1\n",
              "38.904981  -77.042210     1\n",
              "Length: 40153, dtype: int64"
            ]
          },
          "metadata": {
            "tags": []
          },
          "execution_count": 13
        }
      ]
    },
    {
      "cell_type": "code",
      "metadata": {
        "id": "z0Z7nwlS1SIG",
        "colab": {
          "base_uri": "https://localhost:8080/",
          "height": 35
        },
        "outputId": "63b5aa2d-eaea-4b84-999c-ba37d1f540a7"
      },
      "source": [
        "df.iloc[0,1]"
      ],
      "execution_count": null,
      "outputs": [
        {
          "output_type": "execute_result",
          "data": {
            "application/vnd.google.colaboratory.intrinsic+json": {
              "type": "string"
            },
            "text/plain": [
              "'2020-10-03 03:32:15+00:00'"
            ]
          },
          "metadata": {
            "tags": []
          },
          "execution_count": 14
        }
      ]
    },
    {
      "cell_type": "code",
      "metadata": {
        "id": "dDDk_C4T1SIH",
        "colab": {
          "base_uri": "https://localhost:8080/",
          "height": 168
        },
        "outputId": "9ed4bcf3-9efe-4686-e6f1-57e5908b172e"
      },
      "source": [
        "df.iloc[:1] #this gives the first row"
      ],
      "execution_count": null,
      "outputs": [
        {
          "output_type": "execute_result",
          "data": {
            "text/html": [
              "<div>\n",
              "<style scoped>\n",
              "    .dataframe tbody tr th:only-of-type {\n",
              "        vertical-align: middle;\n",
              "    }\n",
              "\n",
              "    .dataframe tbody tr th {\n",
              "        vertical-align: top;\n",
              "    }\n",
              "\n",
              "    .dataframe thead th {\n",
              "        text-align: right;\n",
              "    }\n",
              "</style>\n",
              "<table border=\"1\" class=\"dataframe\">\n",
              "  <thead>\n",
              "    <tr style=\"text-align: right;\">\n",
              "      <th></th>\n",
              "      <th>CREATED</th>\n",
              "      <th>START</th>\n",
              "      <th>END</th>\n",
              "      <th>DISTANCE</th>\n",
              "      <th>RIDE_ID</th>\n",
              "      <th>CUSTOMER_ID</th>\n",
              "      <th>MINUTES</th>\n",
              "      <th>VEHICLE_TYPE</th>\n",
              "      <th>PATH</th>\n",
              "      <th>TIMESTAMPS</th>\n",
              "      <th>START LONG</th>\n",
              "      <th>START LAT</th>\n",
              "      <th>END LONG</th>\n",
              "      <th>END LAT</th>\n",
              "    </tr>\n",
              "  </thead>\n",
              "  <tbody>\n",
              "    <tr>\n",
              "      <th>0</th>\n",
              "      <td>2020-10-03 03:32:15+00:00</td>\n",
              "      <td>2020-10-03 03:32:15+00:00</td>\n",
              "      <td>2020-10-03 03:32:46+00:00</td>\n",
              "      <td>0.008</td>\n",
              "      <td>3135665</td>\n",
              "      <td>193964</td>\n",
              "      <td>1</td>\n",
              "      <td>Scooter</td>\n",
              "      <td>{\\n  \"coordinates\": [\\n    [\\n      -76.934163...</td>\n",
              "      <td>[\\n  \"2020-10-03T03:32:14Z\",\\n  \"2020-10-03T03...</td>\n",
              "      <td>-76.934163</td>\n",
              "      <td>38.990656</td>\n",
              "      <td>-76.934285</td>\n",
              "      <td>38.990739</td>\n",
              "    </tr>\n",
              "  </tbody>\n",
              "</table>\n",
              "</div>"
            ],
            "text/plain": [
              "                     CREATED                      START  ...   END LONG    END LAT\n",
              "0  2020-10-03 03:32:15+00:00  2020-10-03 03:32:15+00:00  ... -76.934285  38.990739\n",
              "\n",
              "[1 rows x 14 columns]"
            ]
          },
          "metadata": {
            "tags": []
          },
          "execution_count": 15
        }
      ]
    },
    {
      "cell_type": "code",
      "metadata": {
        "id": "9OQsd0o_1SIJ",
        "colab": {
          "base_uri": "https://localhost:8080/",
          "height": 966
        },
        "outputId": "56b30cf6-60ad-4f01-a2a1-f38ff1295f0b"
      },
      "source": [
        "df.iloc[0:]"
      ],
      "execution_count": null,
      "outputs": [
        {
          "output_type": "execute_result",
          "data": {
            "text/html": [
              "<div>\n",
              "<style scoped>\n",
              "    .dataframe tbody tr th:only-of-type {\n",
              "        vertical-align: middle;\n",
              "    }\n",
              "\n",
              "    .dataframe tbody tr th {\n",
              "        vertical-align: top;\n",
              "    }\n",
              "\n",
              "    .dataframe thead th {\n",
              "        text-align: right;\n",
              "    }\n",
              "</style>\n",
              "<table border=\"1\" class=\"dataframe\">\n",
              "  <thead>\n",
              "    <tr style=\"text-align: right;\">\n",
              "      <th></th>\n",
              "      <th>CREATED</th>\n",
              "      <th>START</th>\n",
              "      <th>END</th>\n",
              "      <th>DISTANCE</th>\n",
              "      <th>RIDE_ID</th>\n",
              "      <th>CUSTOMER_ID</th>\n",
              "      <th>MINUTES</th>\n",
              "      <th>VEHICLE_TYPE</th>\n",
              "      <th>PATH</th>\n",
              "      <th>TIMESTAMPS</th>\n",
              "      <th>START LONG</th>\n",
              "      <th>START LAT</th>\n",
              "      <th>END LONG</th>\n",
              "      <th>END LAT</th>\n",
              "    </tr>\n",
              "  </thead>\n",
              "  <tbody>\n",
              "    <tr>\n",
              "      <th>0</th>\n",
              "      <td>2020-10-03 03:32:15+00:00</td>\n",
              "      <td>2020-10-03 03:32:15+00:00</td>\n",
              "      <td>2020-10-03 03:32:46+00:00</td>\n",
              "      <td>0.008</td>\n",
              "      <td>3135665</td>\n",
              "      <td>193964</td>\n",
              "      <td>1</td>\n",
              "      <td>Scooter</td>\n",
              "      <td>{\\n  \"coordinates\": [\\n    [\\n      -76.934163...</td>\n",
              "      <td>[\\n  \"2020-10-03T03:32:14Z\",\\n  \"2020-10-03T03...</td>\n",
              "      <td>-76.934163</td>\n",
              "      <td>38.990656</td>\n",
              "      <td>-76.934285</td>\n",
              "      <td>38.990739</td>\n",
              "    </tr>\n",
              "    <tr>\n",
              "      <th>1</th>\n",
              "      <td>2020-10-03 03:07:39+00:00</td>\n",
              "      <td>2020-10-03 03:07:39+00:00</td>\n",
              "      <td>2020-10-03 03:37:06+00:00</td>\n",
              "      <td>1.062</td>\n",
              "      <td>3135395</td>\n",
              "      <td>542947</td>\n",
              "      <td>30</td>\n",
              "      <td>Scooter</td>\n",
              "      <td>{\\n  \"coordinates\": [\\n    [\\n      -76.938180...</td>\n",
              "      <td>[\\n  \"2020-10-03T03:07:46Z\",\\n  \"2020-10-03T03...</td>\n",
              "      <td>-76.938181</td>\n",
              "      <td>38.982087</td>\n",
              "      <td>-76.949165</td>\n",
              "      <td>38.992849</td>\n",
              "    </tr>\n",
              "    <tr>\n",
              "      <th>2</th>\n",
              "      <td>2020-10-03 03:17:05+00:00</td>\n",
              "      <td>2020-10-03 03:17:05+00:00</td>\n",
              "      <td>2020-10-03 03:24:24+00:00</td>\n",
              "      <td>0.847</td>\n",
              "      <td>3135503</td>\n",
              "      <td>517321</td>\n",
              "      <td>8</td>\n",
              "      <td>Scooter</td>\n",
              "      <td>{\\n  \"coordinates\": [\\n    [\\n      -76.937599...</td>\n",
              "      <td>[\\n  \"2020-10-03T03:17:12Z\",\\n  \"2020-10-03T03...</td>\n",
              "      <td>-76.937600</td>\n",
              "      <td>38.979613</td>\n",
              "      <td>-76.933335</td>\n",
              "      <td>38.992676</td>\n",
              "    </tr>\n",
              "    <tr>\n",
              "      <th>3</th>\n",
              "      <td>2020-10-03 02:24:58+00:00</td>\n",
              "      <td>2020-10-03 02:24:58+00:00</td>\n",
              "      <td>2020-10-03 03:11:56+00:00</td>\n",
              "      <td>3.447</td>\n",
              "      <td>3134955</td>\n",
              "      <td>578051</td>\n",
              "      <td>47</td>\n",
              "      <td>Scooter</td>\n",
              "      <td>{\\n  \"coordinates\": [\\n    [\\n      -76.943553...</td>\n",
              "      <td>[\\n  \"2020-10-03T02:25:04Z\",\\n  \"2020-10-03T02...</td>\n",
              "      <td>-76.943553</td>\n",
              "      <td>38.982470</td>\n",
              "      <td>-76.943546</td>\n",
              "      <td>38.982476</td>\n",
              "    </tr>\n",
              "    <tr>\n",
              "      <th>4</th>\n",
              "      <td>2020-10-03 03:19:34+00:00</td>\n",
              "      <td>2020-10-03 03:19:34+00:00</td>\n",
              "      <td>2020-10-03 03:22:45+00:00</td>\n",
              "      <td>0.386</td>\n",
              "      <td>3135529</td>\n",
              "      <td>552305</td>\n",
              "      <td>4</td>\n",
              "      <td>Scooter</td>\n",
              "      <td>{\\n  \"coordinates\": [\\n    [\\n      -76.938115...</td>\n",
              "      <td>[\\n  \"2020-10-03T03:19:40Z\",\\n  \"2020-10-03T03...</td>\n",
              "      <td>-76.938116</td>\n",
              "      <td>38.982084</td>\n",
              "      <td>-76.943257</td>\n",
              "      <td>38.986101</td>\n",
              "    </tr>\n",
              "    <tr>\n",
              "      <th>...</th>\n",
              "      <td>...</td>\n",
              "      <td>...</td>\n",
              "      <td>...</td>\n",
              "      <td>...</td>\n",
              "      <td>...</td>\n",
              "      <td>...</td>\n",
              "      <td>...</td>\n",
              "      <td>...</td>\n",
              "      <td>...</td>\n",
              "      <td>...</td>\n",
              "      <td>...</td>\n",
              "      <td>...</td>\n",
              "      <td>...</td>\n",
              "      <td>...</td>\n",
              "    </tr>\n",
              "    <tr>\n",
              "      <th>40320</th>\n",
              "      <td>2020-10-24 22:21:40+00:00</td>\n",
              "      <td>2020-10-24 22:21:40+00:00</td>\n",
              "      <td>2020-10-24 22:26:38+00:00</td>\n",
              "      <td>0.794</td>\n",
              "      <td>3304114</td>\n",
              "      <td>322401</td>\n",
              "      <td>5</td>\n",
              "      <td>Scooter</td>\n",
              "      <td>{\\n  \"coordinates\": [\\n    [\\n      -76.943936...</td>\n",
              "      <td>[\\n  \"2020-10-24T22:21:46Z\",\\n  \"2020-10-24T22...</td>\n",
              "      <td>-76.943936</td>\n",
              "      <td>38.988110</td>\n",
              "      <td>-76.934104</td>\n",
              "      <td>38.992061</td>\n",
              "    </tr>\n",
              "    <tr>\n",
              "      <th>40321</th>\n",
              "      <td>2020-10-24 21:28:43+00:00</td>\n",
              "      <td>2020-10-24 21:28:43+00:00</td>\n",
              "      <td>2020-10-24 21:32:54+00:00</td>\n",
              "      <td>0.404</td>\n",
              "      <td>3303630</td>\n",
              "      <td>298095</td>\n",
              "      <td>5</td>\n",
              "      <td>Scooter</td>\n",
              "      <td>{\\n  \"coordinates\": [\\n    [\\n      -76.935917...</td>\n",
              "      <td>[\\n  \"2020-10-24T21:28:49Z\",\\n  \"2020-10-24T21...</td>\n",
              "      <td>-76.935917</td>\n",
              "      <td>38.986389</td>\n",
              "      <td>-76.933818</td>\n",
              "      <td>38.992196</td>\n",
              "    </tr>\n",
              "    <tr>\n",
              "      <th>40322</th>\n",
              "      <td>2020-10-25 01:22:00+00:00</td>\n",
              "      <td>2020-10-25 01:22:00+00:00</td>\n",
              "      <td>2020-10-25 01:26:16+00:00</td>\n",
              "      <td>0.629</td>\n",
              "      <td>3305589</td>\n",
              "      <td>604319</td>\n",
              "      <td>5</td>\n",
              "      <td>Scooter</td>\n",
              "      <td>{\\n  \"coordinates\": [\\n    [\\n      -76.940231...</td>\n",
              "      <td>[\\n  \"2020-10-25T01:22:07Z\",\\n  \"2020-10-25T01...</td>\n",
              "      <td>-76.940231</td>\n",
              "      <td>38.996377</td>\n",
              "      <td>-76.945600</td>\n",
              "      <td>38.992842</td>\n",
              "    </tr>\n",
              "    <tr>\n",
              "      <th>40323</th>\n",
              "      <td>2020-10-25 00:55:24+00:00</td>\n",
              "      <td>2020-10-25 00:55:24+00:00</td>\n",
              "      <td>2020-10-25 01:07:38+00:00</td>\n",
              "      <td>0.567</td>\n",
              "      <td>3305336</td>\n",
              "      <td>610943</td>\n",
              "      <td>13</td>\n",
              "      <td>Scooter</td>\n",
              "      <td>{\\n  \"coordinates\": [\\n    [\\n      -76.944152...</td>\n",
              "      <td>[\\n  \"2020-10-25T00:55:30Z\",\\n  \"2020-10-25T00...</td>\n",
              "      <td>-76.944153</td>\n",
              "      <td>38.991956</td>\n",
              "      <td>-76.940216</td>\n",
              "      <td>38.987199</td>\n",
              "    </tr>\n",
              "    <tr>\n",
              "      <th>40324</th>\n",
              "      <td>2020-10-24 06:03:05+00:00</td>\n",
              "      <td>2020-10-24 06:03:05+00:00</td>\n",
              "      <td>2020-10-24 06:38:05+00:00</td>\n",
              "      <td>5.220</td>\n",
              "      <td>3299791</td>\n",
              "      <td>324757</td>\n",
              "      <td>35</td>\n",
              "      <td>Scooter</td>\n",
              "      <td>{\\n  \"coordinates\": [\\n    [\\n      -76.934166...</td>\n",
              "      <td>[\\n  \"2020-10-24T06:03:12Z\",\\n  \"2020-10-24T06...</td>\n",
              "      <td>-76.934167</td>\n",
              "      <td>38.990645</td>\n",
              "      <td>-76.936088</td>\n",
              "      <td>38.982452</td>\n",
              "    </tr>\n",
              "  </tbody>\n",
              "</table>\n",
              "<p>40325 rows × 14 columns</p>\n",
              "</div>"
            ],
            "text/plain": [
              "                         CREATED  ...    END LAT\n",
              "0      2020-10-03 03:32:15+00:00  ...  38.990739\n",
              "1      2020-10-03 03:07:39+00:00  ...  38.992849\n",
              "2      2020-10-03 03:17:05+00:00  ...  38.992676\n",
              "3      2020-10-03 02:24:58+00:00  ...  38.982476\n",
              "4      2020-10-03 03:19:34+00:00  ...  38.986101\n",
              "...                          ...  ...        ...\n",
              "40320  2020-10-24 22:21:40+00:00  ...  38.992061\n",
              "40321  2020-10-24 21:28:43+00:00  ...  38.992196\n",
              "40322  2020-10-25 01:22:00+00:00  ...  38.992842\n",
              "40323  2020-10-25 00:55:24+00:00  ...  38.987199\n",
              "40324  2020-10-24 06:03:05+00:00  ...  38.982452\n",
              "\n",
              "[40325 rows x 14 columns]"
            ]
          },
          "metadata": {
            "tags": []
          },
          "execution_count": 16
        }
      ]
    },
    {
      "cell_type": "code",
      "metadata": {
        "id": "lUeZXKbY1SIo"
      },
      "source": [
        "#.unique() tells the unique values in column\n",
        "#.nununique tells non unique in each column"
      ],
      "execution_count": null,
      "outputs": []
    },
    {
      "cell_type": "code",
      "metadata": {
        "scrolled": true,
        "id": "Y6Xx8-hY1SIr"
      },
      "source": [
        "start=['START LONG','START LAT']"
      ],
      "execution_count": null,
      "outputs": []
    },
    {
      "cell_type": "code",
      "metadata": {
        "scrolled": true,
        "id": "_MbJI4tM1SIt",
        "colab": {
          "base_uri": "https://localhost:8080/",
          "height": 168
        },
        "outputId": "f83e0ddc-e139-4708-8b14-736dbb1dd560"
      },
      "source": [
        "df.iloc[3:4]"
      ],
      "execution_count": null,
      "outputs": [
        {
          "output_type": "execute_result",
          "data": {
            "text/html": [
              "<div>\n",
              "<style scoped>\n",
              "    .dataframe tbody tr th:only-of-type {\n",
              "        vertical-align: middle;\n",
              "    }\n",
              "\n",
              "    .dataframe tbody tr th {\n",
              "        vertical-align: top;\n",
              "    }\n",
              "\n",
              "    .dataframe thead th {\n",
              "        text-align: right;\n",
              "    }\n",
              "</style>\n",
              "<table border=\"1\" class=\"dataframe\">\n",
              "  <thead>\n",
              "    <tr style=\"text-align: right;\">\n",
              "      <th></th>\n",
              "      <th>CREATED</th>\n",
              "      <th>START</th>\n",
              "      <th>END</th>\n",
              "      <th>DISTANCE</th>\n",
              "      <th>RIDE_ID</th>\n",
              "      <th>CUSTOMER_ID</th>\n",
              "      <th>MINUTES</th>\n",
              "      <th>VEHICLE_TYPE</th>\n",
              "      <th>PATH</th>\n",
              "      <th>TIMESTAMPS</th>\n",
              "      <th>START LONG</th>\n",
              "      <th>START LAT</th>\n",
              "      <th>END LONG</th>\n",
              "      <th>END LAT</th>\n",
              "    </tr>\n",
              "  </thead>\n",
              "  <tbody>\n",
              "    <tr>\n",
              "      <th>3</th>\n",
              "      <td>2020-10-03 02:24:58+00:00</td>\n",
              "      <td>2020-10-03 02:24:58+00:00</td>\n",
              "      <td>2020-10-03 03:11:56+00:00</td>\n",
              "      <td>3.447</td>\n",
              "      <td>3134955</td>\n",
              "      <td>578051</td>\n",
              "      <td>47</td>\n",
              "      <td>Scooter</td>\n",
              "      <td>{\\n  \"coordinates\": [\\n    [\\n      -76.943553...</td>\n",
              "      <td>[\\n  \"2020-10-03T02:25:04Z\",\\n  \"2020-10-03T02...</td>\n",
              "      <td>-76.943553</td>\n",
              "      <td>38.98247</td>\n",
              "      <td>-76.943546</td>\n",
              "      <td>38.982476</td>\n",
              "    </tr>\n",
              "  </tbody>\n",
              "</table>\n",
              "</div>"
            ],
            "text/plain": [
              "                     CREATED                      START  ...   END LONG    END LAT\n",
              "3  2020-10-03 02:24:58+00:00  2020-10-03 02:24:58+00:00  ... -76.943546  38.982476\n",
              "\n",
              "[1 rows x 14 columns]"
            ]
          },
          "metadata": {
            "tags": []
          },
          "execution_count": 19
        }
      ]
    },
    {
      "cell_type": "code",
      "metadata": {
        "id": "uUM7ExuR1SIu",
        "colab": {
          "base_uri": "https://localhost:8080/"
        },
        "outputId": "faf3195e-ad00-437b-9d6c-a032c6a17cd6"
      },
      "source": [
        "df.columns"
      ],
      "execution_count": null,
      "outputs": [
        {
          "output_type": "execute_result",
          "data": {
            "text/plain": [
              "Index(['CREATED', 'START', 'END', 'DISTANCE', 'RIDE_ID', 'CUSTOMER_ID',\n",
              "       'MINUTES', 'VEHICLE_TYPE', 'PATH', 'TIMESTAMPS', 'START LONG',\n",
              "       'START LAT', 'END LONG', 'END LAT'],\n",
              "      dtype='object')"
            ]
          },
          "metadata": {
            "tags": []
          },
          "execution_count": 20
        }
      ]
    },
    {
      "cell_type": "code",
      "metadata": {
        "id": "OuRDUfUisHUK"
      },
      "source": [
        "pth=df['PATH']"
      ],
      "execution_count": null,
      "outputs": []
    },
    {
      "cell_type": "code",
      "metadata": {
        "id": "v2_MdZs31SIv"
      },
      "source": [
        "import numpy as np"
      ],
      "execution_count": null,
      "outputs": []
    },
    {
      "cell_type": "code",
      "metadata": {
        "id": "518iJQba1SIv",
        "colab": {
          "base_uri": "https://localhost:8080/"
        },
        "outputId": "e3dbc860-f26d-46fa-e5c9-1e6543a7277c"
      },
      "source": [
        "df[[\"DISTANCE\"]].mean(axis=1)"
      ],
      "execution_count": null,
      "outputs": [
        {
          "output_type": "execute_result",
          "data": {
            "text/plain": [
              "0        0.008\n",
              "1        1.062\n",
              "2        0.847\n",
              "3        3.447\n",
              "4        0.386\n",
              "         ...  \n",
              "40320    0.794\n",
              "40321    0.404\n",
              "40322    0.629\n",
              "40323    0.567\n",
              "40324    5.220\n",
              "Length: 40325, dtype: float64"
            ]
          },
          "metadata": {
            "tags": []
          },
          "execution_count": 23
        }
      ]
    },
    {
      "cell_type": "code",
      "metadata": {
        "id": "5khiiz2v1SIw",
        "colab": {
          "base_uri": "https://localhost:8080/",
          "height": 317
        },
        "outputId": "55faad2f-1df3-4e61-de15-4b4df84b143d"
      },
      "source": [
        "df.describe()"
      ],
      "execution_count": null,
      "outputs": [
        {
          "output_type": "execute_result",
          "data": {
            "text/html": [
              "<div>\n",
              "<style scoped>\n",
              "    .dataframe tbody tr th:only-of-type {\n",
              "        vertical-align: middle;\n",
              "    }\n",
              "\n",
              "    .dataframe tbody tr th {\n",
              "        vertical-align: top;\n",
              "    }\n",
              "\n",
              "    .dataframe thead th {\n",
              "        text-align: right;\n",
              "    }\n",
              "</style>\n",
              "<table border=\"1\" class=\"dataframe\">\n",
              "  <thead>\n",
              "    <tr style=\"text-align: right;\">\n",
              "      <th></th>\n",
              "      <th>DISTANCE</th>\n",
              "      <th>RIDE_ID</th>\n",
              "      <th>CUSTOMER_ID</th>\n",
              "      <th>MINUTES</th>\n",
              "      <th>START LONG</th>\n",
              "      <th>START LAT</th>\n",
              "      <th>END LONG</th>\n",
              "      <th>END LAT</th>\n",
              "    </tr>\n",
              "  </thead>\n",
              "  <tbody>\n",
              "    <tr>\n",
              "      <th>count</th>\n",
              "      <td>38052.000000</td>\n",
              "      <td>4.032500e+04</td>\n",
              "      <td>40325.000000</td>\n",
              "      <td>40325.000000</td>\n",
              "      <td>40325.000000</td>\n",
              "      <td>40325.000000</td>\n",
              "      <td>40325.000000</td>\n",
              "      <td>40325.000000</td>\n",
              "    </tr>\n",
              "    <tr>\n",
              "      <th>mean</th>\n",
              "      <td>13.959499</td>\n",
              "      <td>2.451930e+06</td>\n",
              "      <td>359476.975921</td>\n",
              "      <td>10.514966</td>\n",
              "      <td>-76.938442</td>\n",
              "      <td>38.987794</td>\n",
              "      <td>-76.940179</td>\n",
              "      <td>38.987819</td>\n",
              "    </tr>\n",
              "    <tr>\n",
              "      <th>std</th>\n",
              "      <td>295.521959</td>\n",
              "      <td>8.616648e+05</td>\n",
              "      <td>154074.294496</td>\n",
              "      <td>86.744047</td>\n",
              "      <td>0.343751</td>\n",
              "      <td>0.006229</td>\n",
              "      <td>0.006851</td>\n",
              "      <td>0.006926</td>\n",
              "    </tr>\n",
              "    <tr>\n",
              "      <th>min</th>\n",
              "      <td>0.000000</td>\n",
              "      <td>1.316030e+06</td>\n",
              "      <td>5.000000</td>\n",
              "      <td>0.000000</td>\n",
              "      <td>-76.965487</td>\n",
              "      <td>38.955716</td>\n",
              "      <td>-77.421865</td>\n",
              "      <td>38.904981</td>\n",
              "    </tr>\n",
              "    <tr>\n",
              "      <th>25%</th>\n",
              "      <td>0.430000</td>\n",
              "      <td>1.538282e+06</td>\n",
              "      <td>235012.000000</td>\n",
              "      <td>4.000000</td>\n",
              "      <td>-76.944937</td>\n",
              "      <td>38.982457</td>\n",
              "      <td>-76.944944</td>\n",
              "      <td>38.982469</td>\n",
              "    </tr>\n",
              "    <tr>\n",
              "      <th>50%</th>\n",
              "      <td>0.708000</td>\n",
              "      <td>3.137506e+06</td>\n",
              "      <td>275983.000000</td>\n",
              "      <td>6.000000</td>\n",
              "      <td>-76.940810</td>\n",
              "      <td>38.988611</td>\n",
              "      <td>-76.940803</td>\n",
              "      <td>38.988514</td>\n",
              "    </tr>\n",
              "    <tr>\n",
              "      <th>75%</th>\n",
              "      <td>0.984000</td>\n",
              "      <td>3.248853e+06</td>\n",
              "      <td>548918.000000</td>\n",
              "      <td>9.000000</td>\n",
              "      <td>-76.936058</td>\n",
              "      <td>38.992584</td>\n",
              "      <td>-76.936047</td>\n",
              "      <td>38.992561</td>\n",
              "    </tr>\n",
              "    <tr>\n",
              "      <th>max</th>\n",
              "      <td>12623.444000</td>\n",
              "      <td>3.339713e+06</td>\n",
              "      <td>617441.000000</td>\n",
              "      <td>14620.000000</td>\n",
              "      <td>-7.922432</td>\n",
              "      <td>39.022846</td>\n",
              "      <td>-76.723846</td>\n",
              "      <td>39.528800</td>\n",
              "    </tr>\n",
              "  </tbody>\n",
              "</table>\n",
              "</div>"
            ],
            "text/plain": [
              "           DISTANCE       RIDE_ID  ...      END LONG       END LAT\n",
              "count  38052.000000  4.032500e+04  ...  40325.000000  40325.000000\n",
              "mean      13.959499  2.451930e+06  ...    -76.940179     38.987819\n",
              "std      295.521959  8.616648e+05  ...      0.006851      0.006926\n",
              "min        0.000000  1.316030e+06  ...    -77.421865     38.904981\n",
              "25%        0.430000  1.538282e+06  ...    -76.944944     38.982469\n",
              "50%        0.708000  3.137506e+06  ...    -76.940803     38.988514\n",
              "75%        0.984000  3.248853e+06  ...    -76.936047     38.992561\n",
              "max    12623.444000  3.339713e+06  ...    -76.723846     39.528800\n",
              "\n",
              "[8 rows x 8 columns]"
            ]
          },
          "metadata": {
            "tags": []
          },
          "execution_count": 24
        }
      ]
    },
    {
      "cell_type": "code",
      "metadata": {
        "id": "R63p6RfP1SI0"
      },
      "source": [
        "#! conda install ipyleaflet"
      ],
      "execution_count": null,
      "outputs": []
    },
    {
      "cell_type": "code",
      "metadata": {
        "id": "WBNJh4CP1SI0"
      },
      "source": [
        "#! conda install -c conda-forge ipyleaflet"
      ],
      "execution_count": null,
      "outputs": []
    },
    {
      "cell_type": "code",
      "metadata": {
        "id": "n4rHWpE13JEU"
      },
      "source": [
        ""
      ],
      "execution_count": null,
      "outputs": []
    },
    {
      "cell_type": "code",
      "metadata": {
        "id": "6257DSCc1SI0"
      },
      "source": [
        "# !pip install geopandas\n",
        "# ! pip install ipyleaflet\n",
        "\n",
        "import folium\n",
        "from shapely.geometry import Point \n",
        "\n",
        "from shapely.geometry import Polygon\n",
        "\n",
        "%matplotlib inline\n",
        "\n",
        "\n"
      ],
      "execution_count": null,
      "outputs": []
    },
    {
      "cell_type": "code",
      "metadata": {
        "id": "waEI-jDD1SI2",
        "colab": {
          "base_uri": "https://localhost:8080/",
          "height": 445
        },
        "outputId": "c5b6e692-ef18-4209-a5ff-f555d7249e1c"
      },
      "source": [
        "center = [38.9897, -76.9378]\n",
        "\n",
        "m = folium.Map(location=center, zoom_start=13, tiles=\"Stamen Terrain\")\n",
        "\n",
        "folium.Marker(\n",
        "    location=center,\n",
        "    popup=\"College Park\",\n",
        "    icon=folium.Icon(icon=\"info-sign\"),\n",
        ").add_to(m)\n",
        "\n",
        "folium.Circle(\n",
        "    radius=1000,\n",
        "    location=center,\n",
        "    popup=\"College Park Area\",\n",
        "    color=\"crimson\",\n",
        "    fill=False,\n",
        ").add_to(m)\n",
        "\n",
        "m.save(\"index.html\")\n",
        "m"
      ],
      "execution_count": null,
      "outputs": [
        {
          "output_type": "execute_result",
          "data": {
            "text/html": [
              "<div style=\"width:100%;\"><div style=\"position:relative;width:100%;height:0;padding-bottom:60%;\"><span style=\"color:#565656\">Make this Notebook Trusted to load map: File -> Trust Notebook</span><iframe src=\"about:blank\" style=\"position:absolute;width:100%;height:100%;left:0;top:0;border:none !important;\" data-html=%3C%21DOCTYPE%20html%3E%0A%3Chead%3E%20%20%20%20%0A%20%20%20%20%3Cmeta%20http-equiv%3D%22content-type%22%20content%3D%22text/html%3B%20charset%3DUTF-8%22%20/%3E%0A%20%20%20%20%3Cscript%3EL_PREFER_CANVAS%3Dfalse%3B%20L_NO_TOUCH%3Dfalse%3B%20L_DISABLE_3D%3Dfalse%3B%3C/script%3E%0A%20%20%20%20%3Cscript%20src%3D%22https%3A//cdn.jsdelivr.net/npm/leaflet%401.4.0/dist/leaflet.js%22%3E%3C/script%3E%0A%20%20%20%20%3Cscript%20src%3D%22https%3A//code.jquery.com/jquery-1.12.4.min.js%22%3E%3C/script%3E%0A%20%20%20%20%3Cscript%20src%3D%22https%3A//maxcdn.bootstrapcdn.com/bootstrap/3.2.0/js/bootstrap.min.js%22%3E%3C/script%3E%0A%20%20%20%20%3Cscript%20src%3D%22https%3A//cdnjs.cloudflare.com/ajax/libs/Leaflet.awesome-markers/2.0.2/leaflet.awesome-markers.js%22%3E%3C/script%3E%0A%20%20%20%20%3Clink%20rel%3D%22stylesheet%22%20href%3D%22https%3A//cdn.jsdelivr.net/npm/leaflet%401.4.0/dist/leaflet.css%22/%3E%0A%20%20%20%20%3Clink%20rel%3D%22stylesheet%22%20href%3D%22https%3A//maxcdn.bootstrapcdn.com/bootstrap/3.2.0/css/bootstrap.min.css%22/%3E%0A%20%20%20%20%3Clink%20rel%3D%22stylesheet%22%20href%3D%22https%3A//maxcdn.bootstrapcdn.com/bootstrap/3.2.0/css/bootstrap-theme.min.css%22/%3E%0A%20%20%20%20%3Clink%20rel%3D%22stylesheet%22%20href%3D%22https%3A//maxcdn.bootstrapcdn.com/font-awesome/4.6.3/css/font-awesome.min.css%22/%3E%0A%20%20%20%20%3Clink%20rel%3D%22stylesheet%22%20href%3D%22https%3A//cdnjs.cloudflare.com/ajax/libs/Leaflet.awesome-markers/2.0.2/leaflet.awesome-markers.css%22/%3E%0A%20%20%20%20%3Clink%20rel%3D%22stylesheet%22%20href%3D%22https%3A//rawcdn.githack.com/python-visualization/folium/master/folium/templates/leaflet.awesome.rotate.css%22/%3E%0A%20%20%20%20%3Cstyle%3Ehtml%2C%20body%20%7Bwidth%3A%20100%25%3Bheight%3A%20100%25%3Bmargin%3A%200%3Bpadding%3A%200%3B%7D%3C/style%3E%0A%20%20%20%20%3Cstyle%3E%23map%20%7Bposition%3Aabsolute%3Btop%3A0%3Bbottom%3A0%3Bright%3A0%3Bleft%3A0%3B%7D%3C/style%3E%0A%20%20%20%20%0A%20%20%20%20%3Cmeta%20name%3D%22viewport%22%20content%3D%22width%3Ddevice-width%2C%0A%20%20%20%20%20%20%20%20initial-scale%3D1.0%2C%20maximum-scale%3D1.0%2C%20user-scalable%3Dno%22%20/%3E%0A%20%20%20%20%3Cstyle%3E%23map_07a76788f4ff47fdbc2d0a7ca29a2fc4%20%7B%0A%20%20%20%20%20%20%20%20position%3A%20relative%3B%0A%20%20%20%20%20%20%20%20width%3A%20100.0%25%3B%0A%20%20%20%20%20%20%20%20height%3A%20100.0%25%3B%0A%20%20%20%20%20%20%20%20left%3A%200.0%25%3B%0A%20%20%20%20%20%20%20%20top%3A%200.0%25%3B%0A%20%20%20%20%20%20%20%20%7D%0A%20%20%20%20%3C/style%3E%0A%3C/head%3E%0A%3Cbody%3E%20%20%20%20%0A%20%20%20%20%0A%20%20%20%20%3Cdiv%20class%3D%22folium-map%22%20id%3D%22map_07a76788f4ff47fdbc2d0a7ca29a2fc4%22%20%3E%3C/div%3E%0A%3C/body%3E%0A%3Cscript%3E%20%20%20%20%0A%20%20%20%20%0A%20%20%20%20%0A%20%20%20%20%20%20%20%20var%20bounds%20%3D%20null%3B%0A%20%20%20%20%0A%0A%20%20%20%20var%20map_07a76788f4ff47fdbc2d0a7ca29a2fc4%20%3D%20L.map%28%0A%20%20%20%20%20%20%20%20%27map_07a76788f4ff47fdbc2d0a7ca29a2fc4%27%2C%20%7B%0A%20%20%20%20%20%20%20%20center%3A%20%5B38.9897%2C%20-76.9378%5D%2C%0A%20%20%20%20%20%20%20%20zoom%3A%2013%2C%0A%20%20%20%20%20%20%20%20maxBounds%3A%20bounds%2C%0A%20%20%20%20%20%20%20%20layers%3A%20%5B%5D%2C%0A%20%20%20%20%20%20%20%20worldCopyJump%3A%20false%2C%0A%20%20%20%20%20%20%20%20crs%3A%20L.CRS.EPSG3857%2C%0A%20%20%20%20%20%20%20%20zoomControl%3A%20true%2C%0A%20%20%20%20%20%20%20%20%7D%29%3B%0A%0A%0A%20%20%20%20%0A%20%20%20%20var%20tile_layer_72ece333ecc946b2add2eb5b795a33a9%20%3D%20L.tileLayer%28%0A%20%20%20%20%20%20%20%20%27https%3A//stamen-tiles-%7Bs%7D.a.ssl.fastly.net/terrain/%7Bz%7D/%7Bx%7D/%7By%7D.jpg%27%2C%0A%20%20%20%20%20%20%20%20%7B%0A%20%20%20%20%20%20%20%20%22attribution%22%3A%20null%2C%0A%20%20%20%20%20%20%20%20%22detectRetina%22%3A%20false%2C%0A%20%20%20%20%20%20%20%20%22maxNativeZoom%22%3A%2018%2C%0A%20%20%20%20%20%20%20%20%22maxZoom%22%3A%2018%2C%0A%20%20%20%20%20%20%20%20%22minZoom%22%3A%200%2C%0A%20%20%20%20%20%20%20%20%22noWrap%22%3A%20false%2C%0A%20%20%20%20%20%20%20%20%22opacity%22%3A%201%2C%0A%20%20%20%20%20%20%20%20%22subdomains%22%3A%20%22abc%22%2C%0A%20%20%20%20%20%20%20%20%22tms%22%3A%20false%0A%7D%29.addTo%28map_07a76788f4ff47fdbc2d0a7ca29a2fc4%29%3B%0A%20%20%20%20%0A%20%20%20%20%20%20%20%20var%20marker_3180dd4ac8ad4c8093cf63bb806faaf6%20%3D%20L.marker%28%0A%20%20%20%20%20%20%20%20%20%20%20%20%5B38.9897%2C%20-76.9378%5D%2C%0A%20%20%20%20%20%20%20%20%20%20%20%20%7B%0A%20%20%20%20%20%20%20%20%20%20%20%20%20%20%20%20icon%3A%20new%20L.Icon.Default%28%29%2C%0A%20%20%20%20%20%20%20%20%20%20%20%20%20%20%20%20%7D%0A%20%20%20%20%20%20%20%20%20%20%20%20%29.addTo%28map_07a76788f4ff47fdbc2d0a7ca29a2fc4%29%3B%0A%20%20%20%20%20%20%20%20%0A%20%20%20%20%0A%0A%20%20%20%20%20%20%20%20%20%20%20%20%20%20%20%20var%20icon_842df064ef52476986d71e9347629a06%20%3D%20L.AwesomeMarkers.icon%28%7B%0A%20%20%20%20%20%20%20%20%20%20%20%20%20%20%20%20%20%20%20%20icon%3A%20%27info-sign%27%2C%0A%20%20%20%20%20%20%20%20%20%20%20%20%20%20%20%20%20%20%20%20iconColor%3A%20%27white%27%2C%0A%20%20%20%20%20%20%20%20%20%20%20%20%20%20%20%20%20%20%20%20markerColor%3A%20%27blue%27%2C%0A%20%20%20%20%20%20%20%20%20%20%20%20%20%20%20%20%20%20%20%20prefix%3A%20%27glyphicon%27%2C%0A%20%20%20%20%20%20%20%20%20%20%20%20%20%20%20%20%20%20%20%20extraClasses%3A%20%27fa-rotate-0%27%0A%20%20%20%20%20%20%20%20%20%20%20%20%20%20%20%20%20%20%20%20%7D%29%3B%0A%20%20%20%20%20%20%20%20%20%20%20%20%20%20%20%20marker_3180dd4ac8ad4c8093cf63bb806faaf6.setIcon%28icon_842df064ef52476986d71e9347629a06%29%3B%0A%20%20%20%20%20%20%20%20%20%20%20%20%0A%20%20%20%20%0A%20%20%20%20%20%20%20%20%20%20%20%20var%20popup_e12340c2ec38432ba438a5ceb087913c%20%3D%20L.popup%28%7BmaxWidth%3A%20%27100%25%27%0A%20%20%20%20%20%20%20%20%20%20%20%20%0A%20%20%20%20%20%20%20%20%20%20%20%20%7D%29%3B%0A%0A%20%20%20%20%20%20%20%20%20%20%20%20%0A%20%20%20%20%20%20%20%20%20%20%20%20%20%20%20%20var%20html_05bf05dba1ed4916aaa9f81b613f0fe2%20%3D%20%24%28%60%3Cdiv%20id%3D%22html_05bf05dba1ed4916aaa9f81b613f0fe2%22%20style%3D%22width%3A%20100.0%25%3B%20height%3A%20100.0%25%3B%22%3ECollege%20Park%3C/div%3E%60%29%5B0%5D%3B%0A%20%20%20%20%20%20%20%20%20%20%20%20%20%20%20%20popup_e12340c2ec38432ba438a5ceb087913c.setContent%28html_05bf05dba1ed4916aaa9f81b613f0fe2%29%3B%0A%20%20%20%20%20%20%20%20%20%20%20%20%0A%0A%20%20%20%20%20%20%20%20%20%20%20%20marker_3180dd4ac8ad4c8093cf63bb806faaf6.bindPopup%28popup_e12340c2ec38432ba438a5ceb087913c%29%0A%20%20%20%20%20%20%20%20%20%20%20%20%3B%0A%0A%20%20%20%20%20%20%20%20%20%20%20%20%0A%20%20%20%20%20%20%20%20%0A%20%20%20%20%0A%0A%20%20%20%20%20%20%20%20%20%20%20%20var%20circle_c2171824221b49b894cc38ac22261f11%20%3D%20L.circle%28%0A%20%20%20%20%20%20%20%20%20%20%20%20%20%20%20%20%5B38.9897%2C%20-76.9378%5D%2C%0A%20%20%20%20%20%20%20%20%20%20%20%20%20%20%20%20%7B%0A%20%20%22bubblingMouseEvents%22%3A%20true%2C%0A%20%20%22color%22%3A%20%22crimson%22%2C%0A%20%20%22dashArray%22%3A%20null%2C%0A%20%20%22dashOffset%22%3A%20null%2C%0A%20%20%22fill%22%3A%20false%2C%0A%20%20%22fillColor%22%3A%20%22crimson%22%2C%0A%20%20%22fillOpacity%22%3A%200.2%2C%0A%20%20%22fillRule%22%3A%20%22evenodd%22%2C%0A%20%20%22lineCap%22%3A%20%22round%22%2C%0A%20%20%22lineJoin%22%3A%20%22round%22%2C%0A%20%20%22opacity%22%3A%201.0%2C%0A%20%20%22radius%22%3A%201000%2C%0A%20%20%22stroke%22%3A%20true%2C%0A%20%20%22weight%22%3A%203%0A%7D%0A%20%20%20%20%20%20%20%20%20%20%20%20%20%20%20%20%29%0A%20%20%20%20%20%20%20%20%20%20%20%20%20%20%20%20.addTo%28map_07a76788f4ff47fdbc2d0a7ca29a2fc4%29%3B%0A%20%20%20%20%20%20%20%20%20%20%20%20%0A%20%20%20%20%0A%20%20%20%20%20%20%20%20%20%20%20%20var%20popup_71a3cac4e0854e66874a89692ba6eb33%20%3D%20L.popup%28%7BmaxWidth%3A%20%27100%25%27%0A%20%20%20%20%20%20%20%20%20%20%20%20%0A%20%20%20%20%20%20%20%20%20%20%20%20%7D%29%3B%0A%0A%20%20%20%20%20%20%20%20%20%20%20%20%0A%20%20%20%20%20%20%20%20%20%20%20%20%20%20%20%20var%20html_6030fdc7682a4cabb7b20471510a3834%20%3D%20%24%28%60%3Cdiv%20id%3D%22html_6030fdc7682a4cabb7b20471510a3834%22%20style%3D%22width%3A%20100.0%25%3B%20height%3A%20100.0%25%3B%22%3ECollege%20Park%20Area%3C/div%3E%60%29%5B0%5D%3B%0A%20%20%20%20%20%20%20%20%20%20%20%20%20%20%20%20popup_71a3cac4e0854e66874a89692ba6eb33.setContent%28html_6030fdc7682a4cabb7b20471510a3834%29%3B%0A%20%20%20%20%20%20%20%20%20%20%20%20%0A%0A%20%20%20%20%20%20%20%20%20%20%20%20circle_c2171824221b49b894cc38ac22261f11.bindPopup%28popup_71a3cac4e0854e66874a89692ba6eb33%29%0A%20%20%20%20%20%20%20%20%20%20%20%20%3B%0A%0A%20%20%20%20%20%20%20%20%20%20%20%20%0A%20%20%20%20%20%20%20%20%0A%3C/script%3E onload=\"this.contentDocument.open();this.contentDocument.write(    decodeURIComponent(this.getAttribute('data-html')));this.contentDocument.close();\" allowfullscreen webkitallowfullscreen mozallowfullscreen></iframe></div></div>"
            ],
            "text/plain": [
              "<folium.folium.Map at 0x7ff0d82e2750>"
            ]
          },
          "metadata": {
            "tags": []
          },
          "execution_count": 28
        }
      ]
    },
    {
      "cell_type": "markdown",
      "metadata": {
        "id": "Z71CGaL4k-Fl"
      },
      "source": [
        "MOST COMMON STARTING AND ENDING POINTS FROM DATA SET IS ELKTON HALL IN NORTH CAMPUS AT UMD\n",
        "[38.992447  -76.949093]"
      ]
    },
    {
      "cell_type": "code",
      "metadata": {
        "id": "wIojPaCvpmXr"
      },
      "source": [
        ""
      ],
      "execution_count": null,
      "outputs": []
    },
    {
      "cell_type": "code",
      "metadata": {
        "id": "L0H1rmHM1SI3"
      },
      "source": [
        "# ! jupyter nbextension install --py --symlink --sys-prefix ipyleaflet\n",
        "# ! jupyter nbextension enable --py --sys-prefix ipyleaflet\n",
        "\n",
        "# !jupyter labextension install @jupyter-widgets/jupyterlab-manager\n",
        "# !jupyter labextension install jupyter-leaflet\n",
        "\n",
        "# ! jupyter labextension install js\n",
        "\n",
        "\n",
        "\n",
        "# import ipyleaflet\n",
        "# from ipyleaflet import Map\n",
        "# from ipyleaflet import (Map,DrawControl)\n",
        "\n",
        "# m=Map(center=[38.990656,-76.934163],zoom=10)\n",
        "# d=DrawControl(circle={'shapeOptions':{'color':'#0000FF'}})\n",
        "# m.add_control(d)\n",
        "# m\n",
        "# display(m)\n",
        "#not displaying map\n",
        "\n",
        "\n",
        "\n",
        "# from ipyleaflet import Map, Marker\n",
        "# center = (52.204793, 360.121558)\n",
        "# m = Map(center=center, zoom=15)\n",
        "# marker = Marker(location=center, draggable=True)\n",
        "# m.add_layer(marker);\n",
        "# display(m)\n",
        "# m.save('map.html',title='test')\n",
        "# type(m)\n"
      ],
      "execution_count": null,
      "outputs": []
    },
    {
      "cell_type": "code",
      "metadata": {
        "id": "ldFQIwuWqYnj",
        "colab": {
          "base_uri": "https://localhost:8080/"
        },
        "outputId": "508ca270-4d6b-42a2-927d-7e440b014e12"
      },
      "source": [
        "#df and #np\n",
        "pth.head()"
      ],
      "execution_count": null,
      "outputs": [
        {
          "output_type": "execute_result",
          "data": {
            "text/plain": [
              "0    {\\n  \"coordinates\": [\\n    [\\n      -76.934163...\n",
              "1    {\\n  \"coordinates\": [\\n    [\\n      -76.938180...\n",
              "2    {\\n  \"coordinates\": [\\n    [\\n      -76.937599...\n",
              "3    {\\n  \"coordinates\": [\\n    [\\n      -76.943553...\n",
              "4    {\\n  \"coordinates\": [\\n    [\\n      -76.938115...\n",
              "Name: PATH, dtype: object"
            ]
          },
          "metadata": {
            "tags": []
          },
          "execution_count": 31
        }
      ]
    },
    {
      "cell_type": "code",
      "metadata": {
        "id": "-UpAAN_qr4cy",
        "colab": {
          "base_uri": "https://localhost:8080/",
          "height": 966
        },
        "outputId": "90d439b7-5971-452e-b8ed-5393d036976c"
      },
      "source": [
        "# october 2020 \n",
        "df.iloc[0:]"
      ],
      "execution_count": null,
      "outputs": [
        {
          "output_type": "execute_result",
          "data": {
            "text/html": [
              "<div>\n",
              "<style scoped>\n",
              "    .dataframe tbody tr th:only-of-type {\n",
              "        vertical-align: middle;\n",
              "    }\n",
              "\n",
              "    .dataframe tbody tr th {\n",
              "        vertical-align: top;\n",
              "    }\n",
              "\n",
              "    .dataframe thead th {\n",
              "        text-align: right;\n",
              "    }\n",
              "</style>\n",
              "<table border=\"1\" class=\"dataframe\">\n",
              "  <thead>\n",
              "    <tr style=\"text-align: right;\">\n",
              "      <th></th>\n",
              "      <th>CREATED</th>\n",
              "      <th>START</th>\n",
              "      <th>END</th>\n",
              "      <th>DISTANCE</th>\n",
              "      <th>RIDE_ID</th>\n",
              "      <th>CUSTOMER_ID</th>\n",
              "      <th>MINUTES</th>\n",
              "      <th>VEHICLE_TYPE</th>\n",
              "      <th>PATH</th>\n",
              "      <th>TIMESTAMPS</th>\n",
              "      <th>START LONG</th>\n",
              "      <th>START LAT</th>\n",
              "      <th>END LONG</th>\n",
              "      <th>END LAT</th>\n",
              "    </tr>\n",
              "  </thead>\n",
              "  <tbody>\n",
              "    <tr>\n",
              "      <th>0</th>\n",
              "      <td>2020-10-03 03:32:15+00:00</td>\n",
              "      <td>2020-10-03 03:32:15+00:00</td>\n",
              "      <td>2020-10-03 03:32:46+00:00</td>\n",
              "      <td>0.008</td>\n",
              "      <td>3135665</td>\n",
              "      <td>193964</td>\n",
              "      <td>1</td>\n",
              "      <td>Scooter</td>\n",
              "      <td>{\\n  \"coordinates\": [\\n    [\\n      -76.934163...</td>\n",
              "      <td>[\\n  \"2020-10-03T03:32:14Z\",\\n  \"2020-10-03T03...</td>\n",
              "      <td>-76.934163</td>\n",
              "      <td>38.990656</td>\n",
              "      <td>-76.934285</td>\n",
              "      <td>38.990739</td>\n",
              "    </tr>\n",
              "    <tr>\n",
              "      <th>1</th>\n",
              "      <td>2020-10-03 03:07:39+00:00</td>\n",
              "      <td>2020-10-03 03:07:39+00:00</td>\n",
              "      <td>2020-10-03 03:37:06+00:00</td>\n",
              "      <td>1.062</td>\n",
              "      <td>3135395</td>\n",
              "      <td>542947</td>\n",
              "      <td>30</td>\n",
              "      <td>Scooter</td>\n",
              "      <td>{\\n  \"coordinates\": [\\n    [\\n      -76.938180...</td>\n",
              "      <td>[\\n  \"2020-10-03T03:07:46Z\",\\n  \"2020-10-03T03...</td>\n",
              "      <td>-76.938181</td>\n",
              "      <td>38.982087</td>\n",
              "      <td>-76.949165</td>\n",
              "      <td>38.992849</td>\n",
              "    </tr>\n",
              "    <tr>\n",
              "      <th>2</th>\n",
              "      <td>2020-10-03 03:17:05+00:00</td>\n",
              "      <td>2020-10-03 03:17:05+00:00</td>\n",
              "      <td>2020-10-03 03:24:24+00:00</td>\n",
              "      <td>0.847</td>\n",
              "      <td>3135503</td>\n",
              "      <td>517321</td>\n",
              "      <td>8</td>\n",
              "      <td>Scooter</td>\n",
              "      <td>{\\n  \"coordinates\": [\\n    [\\n      -76.937599...</td>\n",
              "      <td>[\\n  \"2020-10-03T03:17:12Z\",\\n  \"2020-10-03T03...</td>\n",
              "      <td>-76.937600</td>\n",
              "      <td>38.979613</td>\n",
              "      <td>-76.933335</td>\n",
              "      <td>38.992676</td>\n",
              "    </tr>\n",
              "    <tr>\n",
              "      <th>3</th>\n",
              "      <td>2020-10-03 02:24:58+00:00</td>\n",
              "      <td>2020-10-03 02:24:58+00:00</td>\n",
              "      <td>2020-10-03 03:11:56+00:00</td>\n",
              "      <td>3.447</td>\n",
              "      <td>3134955</td>\n",
              "      <td>578051</td>\n",
              "      <td>47</td>\n",
              "      <td>Scooter</td>\n",
              "      <td>{\\n  \"coordinates\": [\\n    [\\n      -76.943553...</td>\n",
              "      <td>[\\n  \"2020-10-03T02:25:04Z\",\\n  \"2020-10-03T02...</td>\n",
              "      <td>-76.943553</td>\n",
              "      <td>38.982470</td>\n",
              "      <td>-76.943546</td>\n",
              "      <td>38.982476</td>\n",
              "    </tr>\n",
              "    <tr>\n",
              "      <th>4</th>\n",
              "      <td>2020-10-03 03:19:34+00:00</td>\n",
              "      <td>2020-10-03 03:19:34+00:00</td>\n",
              "      <td>2020-10-03 03:22:45+00:00</td>\n",
              "      <td>0.386</td>\n",
              "      <td>3135529</td>\n",
              "      <td>552305</td>\n",
              "      <td>4</td>\n",
              "      <td>Scooter</td>\n",
              "      <td>{\\n  \"coordinates\": [\\n    [\\n      -76.938115...</td>\n",
              "      <td>[\\n  \"2020-10-03T03:19:40Z\",\\n  \"2020-10-03T03...</td>\n",
              "      <td>-76.938116</td>\n",
              "      <td>38.982084</td>\n",
              "      <td>-76.943257</td>\n",
              "      <td>38.986101</td>\n",
              "    </tr>\n",
              "    <tr>\n",
              "      <th>...</th>\n",
              "      <td>...</td>\n",
              "      <td>...</td>\n",
              "      <td>...</td>\n",
              "      <td>...</td>\n",
              "      <td>...</td>\n",
              "      <td>...</td>\n",
              "      <td>...</td>\n",
              "      <td>...</td>\n",
              "      <td>...</td>\n",
              "      <td>...</td>\n",
              "      <td>...</td>\n",
              "      <td>...</td>\n",
              "      <td>...</td>\n",
              "      <td>...</td>\n",
              "    </tr>\n",
              "    <tr>\n",
              "      <th>40320</th>\n",
              "      <td>2020-10-24 22:21:40+00:00</td>\n",
              "      <td>2020-10-24 22:21:40+00:00</td>\n",
              "      <td>2020-10-24 22:26:38+00:00</td>\n",
              "      <td>0.794</td>\n",
              "      <td>3304114</td>\n",
              "      <td>322401</td>\n",
              "      <td>5</td>\n",
              "      <td>Scooter</td>\n",
              "      <td>{\\n  \"coordinates\": [\\n    [\\n      -76.943936...</td>\n",
              "      <td>[\\n  \"2020-10-24T22:21:46Z\",\\n  \"2020-10-24T22...</td>\n",
              "      <td>-76.943936</td>\n",
              "      <td>38.988110</td>\n",
              "      <td>-76.934104</td>\n",
              "      <td>38.992061</td>\n",
              "    </tr>\n",
              "    <tr>\n",
              "      <th>40321</th>\n",
              "      <td>2020-10-24 21:28:43+00:00</td>\n",
              "      <td>2020-10-24 21:28:43+00:00</td>\n",
              "      <td>2020-10-24 21:32:54+00:00</td>\n",
              "      <td>0.404</td>\n",
              "      <td>3303630</td>\n",
              "      <td>298095</td>\n",
              "      <td>5</td>\n",
              "      <td>Scooter</td>\n",
              "      <td>{\\n  \"coordinates\": [\\n    [\\n      -76.935917...</td>\n",
              "      <td>[\\n  \"2020-10-24T21:28:49Z\",\\n  \"2020-10-24T21...</td>\n",
              "      <td>-76.935917</td>\n",
              "      <td>38.986389</td>\n",
              "      <td>-76.933818</td>\n",
              "      <td>38.992196</td>\n",
              "    </tr>\n",
              "    <tr>\n",
              "      <th>40322</th>\n",
              "      <td>2020-10-25 01:22:00+00:00</td>\n",
              "      <td>2020-10-25 01:22:00+00:00</td>\n",
              "      <td>2020-10-25 01:26:16+00:00</td>\n",
              "      <td>0.629</td>\n",
              "      <td>3305589</td>\n",
              "      <td>604319</td>\n",
              "      <td>5</td>\n",
              "      <td>Scooter</td>\n",
              "      <td>{\\n  \"coordinates\": [\\n    [\\n      -76.940231...</td>\n",
              "      <td>[\\n  \"2020-10-25T01:22:07Z\",\\n  \"2020-10-25T01...</td>\n",
              "      <td>-76.940231</td>\n",
              "      <td>38.996377</td>\n",
              "      <td>-76.945600</td>\n",
              "      <td>38.992842</td>\n",
              "    </tr>\n",
              "    <tr>\n",
              "      <th>40323</th>\n",
              "      <td>2020-10-25 00:55:24+00:00</td>\n",
              "      <td>2020-10-25 00:55:24+00:00</td>\n",
              "      <td>2020-10-25 01:07:38+00:00</td>\n",
              "      <td>0.567</td>\n",
              "      <td>3305336</td>\n",
              "      <td>610943</td>\n",
              "      <td>13</td>\n",
              "      <td>Scooter</td>\n",
              "      <td>{\\n  \"coordinates\": [\\n    [\\n      -76.944152...</td>\n",
              "      <td>[\\n  \"2020-10-25T00:55:30Z\",\\n  \"2020-10-25T00...</td>\n",
              "      <td>-76.944153</td>\n",
              "      <td>38.991956</td>\n",
              "      <td>-76.940216</td>\n",
              "      <td>38.987199</td>\n",
              "    </tr>\n",
              "    <tr>\n",
              "      <th>40324</th>\n",
              "      <td>2020-10-24 06:03:05+00:00</td>\n",
              "      <td>2020-10-24 06:03:05+00:00</td>\n",
              "      <td>2020-10-24 06:38:05+00:00</td>\n",
              "      <td>5.220</td>\n",
              "      <td>3299791</td>\n",
              "      <td>324757</td>\n",
              "      <td>35</td>\n",
              "      <td>Scooter</td>\n",
              "      <td>{\\n  \"coordinates\": [\\n    [\\n      -76.934166...</td>\n",
              "      <td>[\\n  \"2020-10-24T06:03:12Z\",\\n  \"2020-10-24T06...</td>\n",
              "      <td>-76.934167</td>\n",
              "      <td>38.990645</td>\n",
              "      <td>-76.936088</td>\n",
              "      <td>38.982452</td>\n",
              "    </tr>\n",
              "  </tbody>\n",
              "</table>\n",
              "<p>40325 rows × 14 columns</p>\n",
              "</div>"
            ],
            "text/plain": [
              "                         CREATED  ...    END LAT\n",
              "0      2020-10-03 03:32:15+00:00  ...  38.990739\n",
              "1      2020-10-03 03:07:39+00:00  ...  38.992849\n",
              "2      2020-10-03 03:17:05+00:00  ...  38.992676\n",
              "3      2020-10-03 02:24:58+00:00  ...  38.982476\n",
              "4      2020-10-03 03:19:34+00:00  ...  38.986101\n",
              "...                          ...  ...        ...\n",
              "40320  2020-10-24 22:21:40+00:00  ...  38.992061\n",
              "40321  2020-10-24 21:28:43+00:00  ...  38.992196\n",
              "40322  2020-10-25 01:22:00+00:00  ...  38.992842\n",
              "40323  2020-10-25 00:55:24+00:00  ...  38.987199\n",
              "40324  2020-10-24 06:03:05+00:00  ...  38.982452\n",
              "\n",
              "[40325 rows x 14 columns]"
            ]
          },
          "metadata": {
            "tags": []
          },
          "execution_count": 32
        }
      ]
    },
    {
      "cell_type": "code",
      "metadata": {
        "colab": {
          "base_uri": "https://localhost:8080/",
          "height": 158
        },
        "id": "elp_jMaeLoJf",
        "outputId": "62bc7978-e292-461e-c437-a04f45e664ee"
      },
      "source": [
        "paths = df.Path.tolist()\n"
      ],
      "execution_count": null,
      "outputs": [
        {
          "output_type": "error",
          "ename": "NameError",
          "evalue": "ignored",
          "traceback": [
            "\u001b[0;31m---------------------------------------------------------------------------\u001b[0m",
            "\u001b[0;31mNameError\u001b[0m                                 Traceback (most recent call last)",
            "\u001b[0;32m<ipython-input-1-15e7fa822619>\u001b[0m in \u001b[0;36m<module>\u001b[0;34m()\u001b[0m\n\u001b[0;32m----> 1\u001b[0;31m \u001b[0mpaths\u001b[0m \u001b[0;34m=\u001b[0m \u001b[0mdf\u001b[0m\u001b[0;34m.\u001b[0m\u001b[0mPath\u001b[0m\u001b[0;34m.\u001b[0m\u001b[0mtolist\u001b[0m\u001b[0;34m(\u001b[0m\u001b[0;34m)\u001b[0m\u001b[0;34m\u001b[0m\u001b[0;34m\u001b[0m\u001b[0m\n\u001b[0m",
            "\u001b[0;31mNameError\u001b[0m: name 'df' is not defined"
          ]
        }
      ]
    },
    {
      "cell_type": "code",
      "metadata": {
        "id": "d3tXjBxsvTwh"
      },
      "source": [
        "\n",
        "from datetime import datetime, date, timedelta, timezone\n",
        "datatime=df['CREATED'].drop(37903)\n",
        "\n"
      ],
      "execution_count": null,
      "outputs": []
    },
    {
      "cell_type": "code",
      "metadata": {
        "id": "-2aBYyNKwPhY"
      },
      "source": [
        "t=df['CREATED'].str.contains('2020', na = False)"
      ],
      "execution_count": null,
      "outputs": []
    },
    {
      "cell_type": "code",
      "metadata": {
        "id": "6C054x9FzZBK"
      },
      "source": [
        "#FILTERING TO october 2020 only \n",
        "oct20=df[(df['START']>'2020-10-00')& (df['END']<'2020-10-31')]"
      ],
      "execution_count": null,
      "outputs": []
    },
    {
      "cell_type": "code",
      "metadata": {
        "colab": {
          "base_uri": "https://localhost:8080/",
          "height": 317
        },
        "id": "U5vu_FpRz2ue",
        "outputId": "b0c99466-1cfe-476c-8fa8-72e522ff4591"
      },
      "source": [
        "# now find average distance \n",
        "oct20.describe()"
      ],
      "execution_count": null,
      "outputs": [
        {
          "output_type": "execute_result",
          "data": {
            "text/html": [
              "<div>\n",
              "<style scoped>\n",
              "    .dataframe tbody tr th:only-of-type {\n",
              "        vertical-align: middle;\n",
              "    }\n",
              "\n",
              "    .dataframe tbody tr th {\n",
              "        vertical-align: top;\n",
              "    }\n",
              "\n",
              "    .dataframe thead th {\n",
              "        text-align: right;\n",
              "    }\n",
              "</style>\n",
              "<table border=\"1\" class=\"dataframe\">\n",
              "  <thead>\n",
              "    <tr style=\"text-align: right;\">\n",
              "      <th></th>\n",
              "      <th>DISTANCE</th>\n",
              "      <th>RIDE_ID</th>\n",
              "      <th>CUSTOMER_ID</th>\n",
              "      <th>MINUTES</th>\n",
              "      <th>START LONG</th>\n",
              "      <th>START LAT</th>\n",
              "      <th>END LONG</th>\n",
              "      <th>END LAT</th>\n",
              "      <th>created</th>\n",
              "    </tr>\n",
              "  </thead>\n",
              "  <tbody>\n",
              "    <tr>\n",
              "      <th>count</th>\n",
              "      <td>21106.00000</td>\n",
              "      <td>2.112700e+04</td>\n",
              "      <td>21127.000000</td>\n",
              "      <td>21127.000000</td>\n",
              "      <td>21127.000000</td>\n",
              "      <td>21127.000000</td>\n",
              "      <td>21127.000000</td>\n",
              "      <td>21127.000000</td>\n",
              "      <td>21127.0</td>\n",
              "    </tr>\n",
              "    <tr>\n",
              "      <th>mean</th>\n",
              "      <td>22.42555</td>\n",
              "      <td>3.233527e+06</td>\n",
              "      <td>459871.355233</td>\n",
              "      <td>10.689118</td>\n",
              "      <td>-76.937225</td>\n",
              "      <td>38.987725</td>\n",
              "      <td>-76.940497</td>\n",
              "      <td>38.987720</td>\n",
              "      <td>1.0</td>\n",
              "    </tr>\n",
              "    <tr>\n",
              "      <th>std</th>\n",
              "      <td>377.71228</td>\n",
              "      <td>6.269384e+04</td>\n",
              "      <td>142790.438776</td>\n",
              "      <td>115.101766</td>\n",
              "      <td>0.474879</td>\n",
              "      <td>0.006103</td>\n",
              "      <td>0.006437</td>\n",
              "      <td>0.006192</td>\n",
              "      <td>0.0</td>\n",
              "    </tr>\n",
              "    <tr>\n",
              "      <th>min</th>\n",
              "      <td>0.00000</td>\n",
              "      <td>3.117521e+06</td>\n",
              "      <td>5.000000</td>\n",
              "      <td>0.000000</td>\n",
              "      <td>-76.965487</td>\n",
              "      <td>38.962263</td>\n",
              "      <td>-76.965516</td>\n",
              "      <td>38.939232</td>\n",
              "      <td>1.0</td>\n",
              "    </tr>\n",
              "    <tr>\n",
              "      <th>25%</th>\n",
              "      <td>0.40500</td>\n",
              "      <td>3.181882e+06</td>\n",
              "      <td>303366.000000</td>\n",
              "      <td>4.000000</td>\n",
              "      <td>-76.945565</td>\n",
              "      <td>38.982444</td>\n",
              "      <td>-76.945591</td>\n",
              "      <td>38.982448</td>\n",
              "      <td>1.0</td>\n",
              "    </tr>\n",
              "    <tr>\n",
              "      <th>50%</th>\n",
              "      <td>0.70500</td>\n",
              "      <td>3.237741e+06</td>\n",
              "      <td>543994.000000</td>\n",
              "      <td>6.000000</td>\n",
              "      <td>-76.941135</td>\n",
              "      <td>38.988685</td>\n",
              "      <td>-76.941289</td>\n",
              "      <td>38.988637</td>\n",
              "      <td>1.0</td>\n",
              "    </tr>\n",
              "    <tr>\n",
              "      <th>75%</th>\n",
              "      <td>0.97100</td>\n",
              "      <td>3.289324e+06</td>\n",
              "      <td>575837.000000</td>\n",
              "      <td>9.000000</td>\n",
              "      <td>-76.935040</td>\n",
              "      <td>38.992369</td>\n",
              "      <td>-76.934909</td>\n",
              "      <td>38.992351</td>\n",
              "      <td>1.0</td>\n",
              "    </tr>\n",
              "    <tr>\n",
              "      <th>max</th>\n",
              "      <td>12623.44400</td>\n",
              "      <td>3.332332e+06</td>\n",
              "      <td>615547.000000</td>\n",
              "      <td>14620.000000</td>\n",
              "      <td>-7.922432</td>\n",
              "      <td>39.022846</td>\n",
              "      <td>-76.886523</td>\n",
              "      <td>39.056681</td>\n",
              "      <td>1.0</td>\n",
              "    </tr>\n",
              "  </tbody>\n",
              "</table>\n",
              "</div>"
            ],
            "text/plain": [
              "          DISTANCE       RIDE_ID  ...       END LAT  created\n",
              "count  21106.00000  2.112700e+04  ...  21127.000000  21127.0\n",
              "mean      22.42555  3.233527e+06  ...     38.987720      1.0\n",
              "std      377.71228  6.269384e+04  ...      0.006192      0.0\n",
              "min        0.00000  3.117521e+06  ...     38.939232      1.0\n",
              "25%        0.40500  3.181882e+06  ...     38.982448      1.0\n",
              "50%        0.70500  3.237741e+06  ...     38.988637      1.0\n",
              "75%        0.97100  3.289324e+06  ...     38.992351      1.0\n",
              "max    12623.44400  3.332332e+06  ...     39.056681      1.0\n",
              "\n",
              "[8 rows x 9 columns]"
            ]
          },
          "metadata": {
            "tags": []
          },
          "execution_count": 81
        }
      ]
    },
    {
      "cell_type": "code",
      "metadata": {
        "colab": {
          "base_uri": "https://localhost:8080/"
        },
        "id": "2EQC6QGh4f9N",
        "outputId": "be5da253-f0d1-4df7-ea65-0e34ba52e0e3"
      },
      "source": [
        "s=oct20[['START LAT','START LONG']]\n",
        "print(s)\n",
        "x=s.value_counts()\n",
        "x"
      ],
      "execution_count": null,
      "outputs": [
        {
          "output_type": "stream",
          "text": [
            "       START LAT  START LONG\n",
            "0      38.990656  -76.934163\n",
            "1      38.982087  -76.938181\n",
            "2      38.979613  -76.937600\n",
            "3      38.982470  -76.943553\n",
            "4      38.982084  -76.938116\n",
            "...          ...         ...\n",
            "40320  38.988110  -76.943936\n",
            "40321  38.986389  -76.935917\n",
            "40322  38.996377  -76.940231\n",
            "40323  38.991956  -76.944153\n",
            "40324  38.990645  -76.934167\n",
            "\n",
            "[21127 rows x 2 columns]\n"
          ],
          "name": "stdout"
        },
        {
          "output_type": "execute_result",
          "data": {
            "text/plain": [
              "START LAT  START LONG\n",
              "38.992447  -76.949093    20\n",
              "38.992699  -76.935208    17\n",
              "38.988723  -76.940666    14\n",
              "38.984513  -76.941714     4\n",
              "38.991582  -76.946516     3\n",
              "                         ..\n",
              "38.991574  -76.946841     1\n",
              "           -76.942957     1\n",
              "38.991575  -76.946494     1\n",
              "38.991576  -76.946821     1\n",
              "38.962263  -76.934364     1\n",
              "Length: 21012, dtype: int64"
            ]
          },
          "metadata": {
            "tags": []
          },
          "execution_count": 82
        }
      ]
    },
    {
      "cell_type": "code",
      "metadata": {
        "colab": {
          "base_uri": "https://localhost:8080/"
        },
        "id": "WhIioiEa6l5V",
        "outputId": "ddb323f7-6903-44c9-d067-32c660f4b54a"
      },
      "source": [
        "c=oct20[['END LAT','END LONG']]\n",
        "print(c)\n",
        "v=c.value_counts()\n",
        "v"
      ],
      "execution_count": null,
      "outputs": [
        {
          "output_type": "stream",
          "text": [
            "         END LAT   END LONG\n",
            "0      38.990739 -76.934285\n",
            "1      38.992849 -76.949165\n",
            "2      38.992676 -76.933335\n",
            "3      38.982476 -76.943546\n",
            "4      38.986101 -76.943257\n",
            "...          ...        ...\n",
            "40320  38.992061 -76.934104\n",
            "40321  38.992196 -76.933818\n",
            "40322  38.992842 -76.945600\n",
            "40323  38.987199 -76.940216\n",
            "40324  38.982452 -76.936088\n",
            "\n",
            "[21127 rows x 2 columns]\n"
          ],
          "name": "stdout"
        },
        {
          "output_type": "execute_result",
          "data": {
            "text/plain": [
              "END LAT    END LONG  \n",
              "38.992447  -76.949093    20\n",
              "38.992699  -76.935208    17\n",
              "38.988723  -76.940666    14\n",
              "38.984513  -76.941714     4\n",
              "38.976563  -76.937690     3\n",
              "                         ..\n",
              "38.991567  -76.947016     1\n",
              "           -76.946543     1\n",
              "38.991569  -76.946816     1\n",
              "           -76.946544     1\n",
              "38.939232  -76.946893     1\n",
              "Length: 21051, dtype: int64"
            ]
          },
          "metadata": {
            "tags": []
          },
          "execution_count": 83
        }
      ]
    },
    {
      "cell_type": "code",
      "metadata": {
        "colab": {
          "base_uri": "https://localhost:8080/",
          "height": 445
        },
        "id": "VsI-X2h874qu",
        "outputId": "31d57953-66a3-4831-b87d-31f5d3b92fa2"
      },
      "source": [
        "center = [38.992699, -76.93520]\n",
        "\n",
        "m = folium.Map(location=center, zoom_start=13, tiles=\"Stamen Terrain\")\n",
        "\n",
        "folium.Marker(\n",
        "    location=center,\n",
        "    popup=\"College Park\",\n",
        "    icon=folium.Icon(icon=\"info-sign\"),\n",
        ").add_to(m)\n",
        "\n",
        "folium.Circle(\n",
        "    radius=150,\n",
        "    location=center,\n",
        "    popup=\"College Park Area\",\n",
        "    color=\"crimson\",\n",
        "    fill=False,\n",
        ").add_to(m)\n",
        "\n",
        "m.save(\"index.html\")\n",
        "m\n"
      ],
      "execution_count": null,
      "outputs": [
        {
          "output_type": "execute_result",
          "data": {
            "text/html": [
              "<div style=\"width:100%;\"><div style=\"position:relative;width:100%;height:0;padding-bottom:60%;\"><span style=\"color:#565656\">Make this Notebook Trusted to load map: File -> Trust Notebook</span><iframe src=\"about:blank\" style=\"position:absolute;width:100%;height:100%;left:0;top:0;border:none !important;\" data-html=%3C%21DOCTYPE%20html%3E%0A%3Chead%3E%20%20%20%20%0A%20%20%20%20%3Cmeta%20http-equiv%3D%22content-type%22%20content%3D%22text/html%3B%20charset%3DUTF-8%22%20/%3E%0A%20%20%20%20%3Cscript%3EL_PREFER_CANVAS%3Dfalse%3B%20L_NO_TOUCH%3Dfalse%3B%20L_DISABLE_3D%3Dfalse%3B%3C/script%3E%0A%20%20%20%20%3Cscript%20src%3D%22https%3A//cdn.jsdelivr.net/npm/leaflet%401.4.0/dist/leaflet.js%22%3E%3C/script%3E%0A%20%20%20%20%3Cscript%20src%3D%22https%3A//code.jquery.com/jquery-1.12.4.min.js%22%3E%3C/script%3E%0A%20%20%20%20%3Cscript%20src%3D%22https%3A//maxcdn.bootstrapcdn.com/bootstrap/3.2.0/js/bootstrap.min.js%22%3E%3C/script%3E%0A%20%20%20%20%3Cscript%20src%3D%22https%3A//cdnjs.cloudflare.com/ajax/libs/Leaflet.awesome-markers/2.0.2/leaflet.awesome-markers.js%22%3E%3C/script%3E%0A%20%20%20%20%3Clink%20rel%3D%22stylesheet%22%20href%3D%22https%3A//cdn.jsdelivr.net/npm/leaflet%401.4.0/dist/leaflet.css%22/%3E%0A%20%20%20%20%3Clink%20rel%3D%22stylesheet%22%20href%3D%22https%3A//maxcdn.bootstrapcdn.com/bootstrap/3.2.0/css/bootstrap.min.css%22/%3E%0A%20%20%20%20%3Clink%20rel%3D%22stylesheet%22%20href%3D%22https%3A//maxcdn.bootstrapcdn.com/bootstrap/3.2.0/css/bootstrap-theme.min.css%22/%3E%0A%20%20%20%20%3Clink%20rel%3D%22stylesheet%22%20href%3D%22https%3A//maxcdn.bootstrapcdn.com/font-awesome/4.6.3/css/font-awesome.min.css%22/%3E%0A%20%20%20%20%3Clink%20rel%3D%22stylesheet%22%20href%3D%22https%3A//cdnjs.cloudflare.com/ajax/libs/Leaflet.awesome-markers/2.0.2/leaflet.awesome-markers.css%22/%3E%0A%20%20%20%20%3Clink%20rel%3D%22stylesheet%22%20href%3D%22https%3A//rawcdn.githack.com/python-visualization/folium/master/folium/templates/leaflet.awesome.rotate.css%22/%3E%0A%20%20%20%20%3Cstyle%3Ehtml%2C%20body%20%7Bwidth%3A%20100%25%3Bheight%3A%20100%25%3Bmargin%3A%200%3Bpadding%3A%200%3B%7D%3C/style%3E%0A%20%20%20%20%3Cstyle%3E%23map%20%7Bposition%3Aabsolute%3Btop%3A0%3Bbottom%3A0%3Bright%3A0%3Bleft%3A0%3B%7D%3C/style%3E%0A%20%20%20%20%0A%20%20%20%20%3Cmeta%20name%3D%22viewport%22%20content%3D%22width%3Ddevice-width%2C%0A%20%20%20%20%20%20%20%20initial-scale%3D1.0%2C%20maximum-scale%3D1.0%2C%20user-scalable%3Dno%22%20/%3E%0A%20%20%20%20%3Cstyle%3E%23map_c6926be216024ae8866738c594e9dc47%20%7B%0A%20%20%20%20%20%20%20%20position%3A%20relative%3B%0A%20%20%20%20%20%20%20%20width%3A%20100.0%25%3B%0A%20%20%20%20%20%20%20%20height%3A%20100.0%25%3B%0A%20%20%20%20%20%20%20%20left%3A%200.0%25%3B%0A%20%20%20%20%20%20%20%20top%3A%200.0%25%3B%0A%20%20%20%20%20%20%20%20%7D%0A%20%20%20%20%3C/style%3E%0A%3C/head%3E%0A%3Cbody%3E%20%20%20%20%0A%20%20%20%20%0A%20%20%20%20%3Cdiv%20class%3D%22folium-map%22%20id%3D%22map_c6926be216024ae8866738c594e9dc47%22%20%3E%3C/div%3E%0A%3C/body%3E%0A%3Cscript%3E%20%20%20%20%0A%20%20%20%20%0A%20%20%20%20%0A%20%20%20%20%20%20%20%20var%20bounds%20%3D%20null%3B%0A%20%20%20%20%0A%0A%20%20%20%20var%20map_c6926be216024ae8866738c594e9dc47%20%3D%20L.map%28%0A%20%20%20%20%20%20%20%20%27map_c6926be216024ae8866738c594e9dc47%27%2C%20%7B%0A%20%20%20%20%20%20%20%20center%3A%20%5B38.992699%2C%20-76.9352%5D%2C%0A%20%20%20%20%20%20%20%20zoom%3A%2013%2C%0A%20%20%20%20%20%20%20%20maxBounds%3A%20bounds%2C%0A%20%20%20%20%20%20%20%20layers%3A%20%5B%5D%2C%0A%20%20%20%20%20%20%20%20worldCopyJump%3A%20false%2C%0A%20%20%20%20%20%20%20%20crs%3A%20L.CRS.EPSG3857%2C%0A%20%20%20%20%20%20%20%20zoomControl%3A%20true%2C%0A%20%20%20%20%20%20%20%20%7D%29%3B%0A%0A%0A%20%20%20%20%0A%20%20%20%20var%20tile_layer_cc387da5179e4b83b93b15f157e26800%20%3D%20L.tileLayer%28%0A%20%20%20%20%20%20%20%20%27https%3A//stamen-tiles-%7Bs%7D.a.ssl.fastly.net/terrain/%7Bz%7D/%7Bx%7D/%7By%7D.jpg%27%2C%0A%20%20%20%20%20%20%20%20%7B%0A%20%20%20%20%20%20%20%20%22attribution%22%3A%20null%2C%0A%20%20%20%20%20%20%20%20%22detectRetina%22%3A%20false%2C%0A%20%20%20%20%20%20%20%20%22maxNativeZoom%22%3A%2018%2C%0A%20%20%20%20%20%20%20%20%22maxZoom%22%3A%2018%2C%0A%20%20%20%20%20%20%20%20%22minZoom%22%3A%200%2C%0A%20%20%20%20%20%20%20%20%22noWrap%22%3A%20false%2C%0A%20%20%20%20%20%20%20%20%22opacity%22%3A%201%2C%0A%20%20%20%20%20%20%20%20%22subdomains%22%3A%20%22abc%22%2C%0A%20%20%20%20%20%20%20%20%22tms%22%3A%20false%0A%7D%29.addTo%28map_c6926be216024ae8866738c594e9dc47%29%3B%0A%20%20%20%20%0A%20%20%20%20%20%20%20%20var%20marker_209385c40e97421abc0c1d2d0129faec%20%3D%20L.marker%28%0A%20%20%20%20%20%20%20%20%20%20%20%20%5B38.992699%2C%20-76.9352%5D%2C%0A%20%20%20%20%20%20%20%20%20%20%20%20%7B%0A%20%20%20%20%20%20%20%20%20%20%20%20%20%20%20%20icon%3A%20new%20L.Icon.Default%28%29%2C%0A%20%20%20%20%20%20%20%20%20%20%20%20%20%20%20%20%7D%0A%20%20%20%20%20%20%20%20%20%20%20%20%29.addTo%28map_c6926be216024ae8866738c594e9dc47%29%3B%0A%20%20%20%20%20%20%20%20%0A%20%20%20%20%0A%0A%20%20%20%20%20%20%20%20%20%20%20%20%20%20%20%20var%20icon_982556a902c244e190f9a3d33502b75d%20%3D%20L.AwesomeMarkers.icon%28%7B%0A%20%20%20%20%20%20%20%20%20%20%20%20%20%20%20%20%20%20%20%20icon%3A%20%27info-sign%27%2C%0A%20%20%20%20%20%20%20%20%20%20%20%20%20%20%20%20%20%20%20%20iconColor%3A%20%27white%27%2C%0A%20%20%20%20%20%20%20%20%20%20%20%20%20%20%20%20%20%20%20%20markerColor%3A%20%27blue%27%2C%0A%20%20%20%20%20%20%20%20%20%20%20%20%20%20%20%20%20%20%20%20prefix%3A%20%27glyphicon%27%2C%0A%20%20%20%20%20%20%20%20%20%20%20%20%20%20%20%20%20%20%20%20extraClasses%3A%20%27fa-rotate-0%27%0A%20%20%20%20%20%20%20%20%20%20%20%20%20%20%20%20%20%20%20%20%7D%29%3B%0A%20%20%20%20%20%20%20%20%20%20%20%20%20%20%20%20marker_209385c40e97421abc0c1d2d0129faec.setIcon%28icon_982556a902c244e190f9a3d33502b75d%29%3B%0A%20%20%20%20%20%20%20%20%20%20%20%20%0A%20%20%20%20%0A%20%20%20%20%20%20%20%20%20%20%20%20var%20popup_cd193890e9a545dd989179c737462666%20%3D%20L.popup%28%7BmaxWidth%3A%20%27100%25%27%0A%20%20%20%20%20%20%20%20%20%20%20%20%0A%20%20%20%20%20%20%20%20%20%20%20%20%7D%29%3B%0A%0A%20%20%20%20%20%20%20%20%20%20%20%20%0A%20%20%20%20%20%20%20%20%20%20%20%20%20%20%20%20var%20html_0021dc78a279415f875a1cde36e799cc%20%3D%20%24%28%60%3Cdiv%20id%3D%22html_0021dc78a279415f875a1cde36e799cc%22%20style%3D%22width%3A%20100.0%25%3B%20height%3A%20100.0%25%3B%22%3ECollege%20Park%3C/div%3E%60%29%5B0%5D%3B%0A%20%20%20%20%20%20%20%20%20%20%20%20%20%20%20%20popup_cd193890e9a545dd989179c737462666.setContent%28html_0021dc78a279415f875a1cde36e799cc%29%3B%0A%20%20%20%20%20%20%20%20%20%20%20%20%0A%0A%20%20%20%20%20%20%20%20%20%20%20%20marker_209385c40e97421abc0c1d2d0129faec.bindPopup%28popup_cd193890e9a545dd989179c737462666%29%0A%20%20%20%20%20%20%20%20%20%20%20%20%3B%0A%0A%20%20%20%20%20%20%20%20%20%20%20%20%0A%20%20%20%20%20%20%20%20%0A%20%20%20%20%0A%0A%20%20%20%20%20%20%20%20%20%20%20%20var%20circle_2cb2be13fc9c4b8f99fab34693502df7%20%3D%20L.circle%28%0A%20%20%20%20%20%20%20%20%20%20%20%20%20%20%20%20%5B38.992699%2C%20-76.9352%5D%2C%0A%20%20%20%20%20%20%20%20%20%20%20%20%20%20%20%20%7B%0A%20%20%22bubblingMouseEvents%22%3A%20true%2C%0A%20%20%22color%22%3A%20%22crimson%22%2C%0A%20%20%22dashArray%22%3A%20null%2C%0A%20%20%22dashOffset%22%3A%20null%2C%0A%20%20%22fill%22%3A%20false%2C%0A%20%20%22fillColor%22%3A%20%22crimson%22%2C%0A%20%20%22fillOpacity%22%3A%200.2%2C%0A%20%20%22fillRule%22%3A%20%22evenodd%22%2C%0A%20%20%22lineCap%22%3A%20%22round%22%2C%0A%20%20%22lineJoin%22%3A%20%22round%22%2C%0A%20%20%22opacity%22%3A%201.0%2C%0A%20%20%22radius%22%3A%20150%2C%0A%20%20%22stroke%22%3A%20true%2C%0A%20%20%22weight%22%3A%203%0A%7D%0A%20%20%20%20%20%20%20%20%20%20%20%20%20%20%20%20%29%0A%20%20%20%20%20%20%20%20%20%20%20%20%20%20%20%20.addTo%28map_c6926be216024ae8866738c594e9dc47%29%3B%0A%20%20%20%20%20%20%20%20%20%20%20%20%0A%20%20%20%20%0A%20%20%20%20%20%20%20%20%20%20%20%20var%20popup_77c295ade59542ad81a4f3281056fdd1%20%3D%20L.popup%28%7BmaxWidth%3A%20%27100%25%27%0A%20%20%20%20%20%20%20%20%20%20%20%20%0A%20%20%20%20%20%20%20%20%20%20%20%20%7D%29%3B%0A%0A%20%20%20%20%20%20%20%20%20%20%20%20%0A%20%20%20%20%20%20%20%20%20%20%20%20%20%20%20%20var%20html_a15fca03ebb94de3a794a841d2f138d9%20%3D%20%24%28%60%3Cdiv%20id%3D%22html_a15fca03ebb94de3a794a841d2f138d9%22%20style%3D%22width%3A%20100.0%25%3B%20height%3A%20100.0%25%3B%22%3ECollege%20Park%20Area%3C/div%3E%60%29%5B0%5D%3B%0A%20%20%20%20%20%20%20%20%20%20%20%20%20%20%20%20popup_77c295ade59542ad81a4f3281056fdd1.setContent%28html_a15fca03ebb94de3a794a841d2f138d9%29%3B%0A%20%20%20%20%20%20%20%20%20%20%20%20%0A%0A%20%20%20%20%20%20%20%20%20%20%20%20circle_2cb2be13fc9c4b8f99fab34693502df7.bindPopup%28popup_77c295ade59542ad81a4f3281056fdd1%29%0A%20%20%20%20%20%20%20%20%20%20%20%20%3B%0A%0A%20%20%20%20%20%20%20%20%20%20%20%20%0A%20%20%20%20%20%20%20%20%0A%3C/script%3E onload=\"this.contentDocument.open();this.contentDocument.write(    decodeURIComponent(this.getAttribute('data-html')));this.contentDocument.close();\" allowfullscreen webkitallowfullscreen mozallowfullscreen></iframe></div></div>"
            ],
            "text/plain": [
              "<folium.folium.Map at 0x7ff0d34a0c50>"
            ]
          },
          "metadata": {
            "tags": []
          },
          "execution_count": 97
        }
      ]
    },
    {
      "cell_type": "code",
      "metadata": {
        "colab": {
          "base_uri": "https://localhost:8080/"
        },
        "id": "3sJmsZSk-GGw",
        "outputId": "2d905018-b6dc-45c3-e2ae-00adc3ef4888"
      },
      "source": [
        ""
      ],
      "execution_count": null,
      "outputs": [
        {
          "output_type": "execute_result",
          "data": {
            "text/plain": [
              "0        38.990656\n",
              "1        38.982087\n",
              "2        38.979613\n",
              "3        38.982470\n",
              "4        38.982084\n",
              "           ...    \n",
              "40320    38.988110\n",
              "40321    38.986389\n",
              "40322    38.996377\n",
              "40323    38.991956\n",
              "40324    38.990645\n",
              "Name: START LAT, Length: 40325, dtype: float64"
            ]
          },
          "metadata": {
            "tags": []
          },
          "execution_count": 98
        }
      ]
    },
    {
      "cell_type": "code",
      "metadata": {
        "colab": {
          "base_uri": "https://localhost:8080/"
        },
        "id": "bpiKxhXuHvCF",
        "outputId": "f4c41327-3f37-4450-ad0d-c60832ee9041"
      },
      "source": [
        "start"
      ],
      "execution_count": null,
      "outputs": [
        {
          "output_type": "execute_result",
          "data": {
            "text/plain": [
              "['START LONG', 'START LAT']"
            ]
          },
          "metadata": {
            "tags": []
          },
          "execution_count": 100
        }
      ]
    },
    {
      "cell_type": "code",
      "metadata": {
        "colab": {
          "base_uri": "https://localhost:8080/",
          "height": 419
        },
        "id": "SYCVOFWsH5nN",
        "outputId": "852721fd-f857-4725-ebfb-25d5d0e3584f"
      },
      "source": [
        "df[start]"
      ],
      "execution_count": null,
      "outputs": [
        {
          "output_type": "execute_result",
          "data": {
            "text/html": [
              "<div>\n",
              "<style scoped>\n",
              "    .dataframe tbody tr th:only-of-type {\n",
              "        vertical-align: middle;\n",
              "    }\n",
              "\n",
              "    .dataframe tbody tr th {\n",
              "        vertical-align: top;\n",
              "    }\n",
              "\n",
              "    .dataframe thead th {\n",
              "        text-align: right;\n",
              "    }\n",
              "</style>\n",
              "<table border=\"1\" class=\"dataframe\">\n",
              "  <thead>\n",
              "    <tr style=\"text-align: right;\">\n",
              "      <th></th>\n",
              "      <th>START LONG</th>\n",
              "      <th>START LAT</th>\n",
              "    </tr>\n",
              "  </thead>\n",
              "  <tbody>\n",
              "    <tr>\n",
              "      <th>0</th>\n",
              "      <td>-76.934163</td>\n",
              "      <td>38.990656</td>\n",
              "    </tr>\n",
              "    <tr>\n",
              "      <th>1</th>\n",
              "      <td>-76.938181</td>\n",
              "      <td>38.982087</td>\n",
              "    </tr>\n",
              "    <tr>\n",
              "      <th>2</th>\n",
              "      <td>-76.937600</td>\n",
              "      <td>38.979613</td>\n",
              "    </tr>\n",
              "    <tr>\n",
              "      <th>3</th>\n",
              "      <td>-76.943553</td>\n",
              "      <td>38.982470</td>\n",
              "    </tr>\n",
              "    <tr>\n",
              "      <th>4</th>\n",
              "      <td>-76.938116</td>\n",
              "      <td>38.982084</td>\n",
              "    </tr>\n",
              "    <tr>\n",
              "      <th>...</th>\n",
              "      <td>...</td>\n",
              "      <td>...</td>\n",
              "    </tr>\n",
              "    <tr>\n",
              "      <th>40320</th>\n",
              "      <td>-76.943936</td>\n",
              "      <td>38.988110</td>\n",
              "    </tr>\n",
              "    <tr>\n",
              "      <th>40321</th>\n",
              "      <td>-76.935917</td>\n",
              "      <td>38.986389</td>\n",
              "    </tr>\n",
              "    <tr>\n",
              "      <th>40322</th>\n",
              "      <td>-76.940231</td>\n",
              "      <td>38.996377</td>\n",
              "    </tr>\n",
              "    <tr>\n",
              "      <th>40323</th>\n",
              "      <td>-76.944153</td>\n",
              "      <td>38.991956</td>\n",
              "    </tr>\n",
              "    <tr>\n",
              "      <th>40324</th>\n",
              "      <td>-76.934167</td>\n",
              "      <td>38.990645</td>\n",
              "    </tr>\n",
              "  </tbody>\n",
              "</table>\n",
              "<p>40325 rows × 2 columns</p>\n",
              "</div>"
            ],
            "text/plain": [
              "       START LONG  START LAT\n",
              "0      -76.934163  38.990656\n",
              "1      -76.938181  38.982087\n",
              "2      -76.937600  38.979613\n",
              "3      -76.943553  38.982470\n",
              "4      -76.938116  38.982084\n",
              "...           ...        ...\n",
              "40320  -76.943936  38.988110\n",
              "40321  -76.935917  38.986389\n",
              "40322  -76.940231  38.996377\n",
              "40323  -76.944153  38.991956\n",
              "40324  -76.934167  38.990645\n",
              "\n",
              "[40325 rows x 2 columns]"
            ]
          },
          "metadata": {
            "tags": []
          },
          "execution_count": 101
        }
      ]
    },
    {
      "cell_type": "code",
      "metadata": {
        "id": "sOGiR4dtH8YB"
      },
      "source": [
        "oct19=df[(df['START']>'2019-10-00')& (df['END']<'2019-10-31')]"
      ],
      "execution_count": null,
      "outputs": []
    },
    {
      "cell_type": "code",
      "metadata": {
        "colab": {
          "base_uri": "https://localhost:8080/",
          "height": 317
        },
        "id": "j8lazsrRI-Ey",
        "outputId": "5a9955d2-3d40-405c-ecea-9aa0901bd2fc"
      },
      "source": [
        "oct19.describe()"
      ],
      "execution_count": null,
      "outputs": [
        {
          "output_type": "execute_result",
          "data": {
            "text/html": [
              "<div>\n",
              "<style scoped>\n",
              "    .dataframe tbody tr th:only-of-type {\n",
              "        vertical-align: middle;\n",
              "    }\n",
              "\n",
              "    .dataframe tbody tr th {\n",
              "        vertical-align: top;\n",
              "    }\n",
              "\n",
              "    .dataframe thead th {\n",
              "        text-align: right;\n",
              "    }\n",
              "</style>\n",
              "<table border=\"1\" class=\"dataframe\">\n",
              "  <thead>\n",
              "    <tr style=\"text-align: right;\">\n",
              "      <th></th>\n",
              "      <th>DISTANCE</th>\n",
              "      <th>RIDE_ID</th>\n",
              "      <th>CUSTOMER_ID</th>\n",
              "      <th>MINUTES</th>\n",
              "      <th>START LONG</th>\n",
              "      <th>START LAT</th>\n",
              "      <th>END LONG</th>\n",
              "      <th>END LAT</th>\n",
              "      <th>created</th>\n",
              "    </tr>\n",
              "  </thead>\n",
              "  <tbody>\n",
              "    <tr>\n",
              "      <th>count</th>\n",
              "      <td>15481.000000</td>\n",
              "      <td>1.765700e+04</td>\n",
              "      <td>17657.000000</td>\n",
              "      <td>17657.000000</td>\n",
              "      <td>17657.000000</td>\n",
              "      <td>17657.000000</td>\n",
              "      <td>17657.000000</td>\n",
              "      <td>17657.000000</td>\n",
              "      <td>17657.0</td>\n",
              "    </tr>\n",
              "    <tr>\n",
              "      <th>mean</th>\n",
              "      <td>3.667393</td>\n",
              "      <td>1.508957e+06</td>\n",
              "      <td>238435.164807</td>\n",
              "      <td>10.307697</td>\n",
              "      <td>-76.939747</td>\n",
              "      <td>38.987896</td>\n",
              "      <td>-76.939791</td>\n",
              "      <td>38.987949</td>\n",
              "      <td>1.0</td>\n",
              "    </tr>\n",
              "    <tr>\n",
              "      <th>std</th>\n",
              "      <td>141.222457</td>\n",
              "      <td>8.974555e+04</td>\n",
              "      <td>29223.188742</td>\n",
              "      <td>30.707272</td>\n",
              "      <td>0.006049</td>\n",
              "      <td>0.006424</td>\n",
              "      <td>0.007379</td>\n",
              "      <td>0.007801</td>\n",
              "      <td>0.0</td>\n",
              "    </tr>\n",
              "    <tr>\n",
              "      <th>min</th>\n",
              "      <td>0.006000</td>\n",
              "      <td>1.316030e+06</td>\n",
              "      <td>76237.000000</td>\n",
              "      <td>0.000000</td>\n",
              "      <td>-76.963960</td>\n",
              "      <td>38.955716</td>\n",
              "      <td>-77.421865</td>\n",
              "      <td>38.904981</td>\n",
              "      <td>1.0</td>\n",
              "    </tr>\n",
              "    <tr>\n",
              "      <th>25%</th>\n",
              "      <td>0.474000</td>\n",
              "      <td>1.445706e+06</td>\n",
              "      <td>211597.000000</td>\n",
              "      <td>5.000000</td>\n",
              "      <td>-76.943603</td>\n",
              "      <td>38.982465</td>\n",
              "      <td>-76.943611</td>\n",
              "      <td>38.982486</td>\n",
              "      <td>1.0</td>\n",
              "    </tr>\n",
              "    <tr>\n",
              "      <th>50%</th>\n",
              "      <td>0.715000</td>\n",
              "      <td>1.520190e+06</td>\n",
              "      <td>239819.000000</td>\n",
              "      <td>7.000000</td>\n",
              "      <td>-76.940793</td>\n",
              "      <td>38.988102</td>\n",
              "      <td>-76.940780</td>\n",
              "      <td>38.987744</td>\n",
              "      <td>1.0</td>\n",
              "    </tr>\n",
              "    <tr>\n",
              "      <th>75%</th>\n",
              "      <td>1.006000</td>\n",
              "      <td>1.589707e+06</td>\n",
              "      <td>263669.000000</td>\n",
              "      <td>10.000000</td>\n",
              "      <td>-76.936657</td>\n",
              "      <td>38.992909</td>\n",
              "      <td>-76.936706</td>\n",
              "      <td>38.992902</td>\n",
              "      <td>1.0</td>\n",
              "    </tr>\n",
              "    <tr>\n",
              "      <th>max</th>\n",
              "      <td>11812.447000</td>\n",
              "      <td>1.642427e+06</td>\n",
              "      <td>286639.000000</td>\n",
              "      <td>2211.000000</td>\n",
              "      <td>-76.894017</td>\n",
              "      <td>39.016770</td>\n",
              "      <td>-76.723846</td>\n",
              "      <td>39.528800</td>\n",
              "      <td>1.0</td>\n",
              "    </tr>\n",
              "  </tbody>\n",
              "</table>\n",
              "</div>"
            ],
            "text/plain": [
              "           DISTANCE       RIDE_ID  ...       END LAT  created\n",
              "count  15481.000000  1.765700e+04  ...  17657.000000  17657.0\n",
              "mean       3.667393  1.508957e+06  ...     38.987949      1.0\n",
              "std      141.222457  8.974555e+04  ...      0.007801      0.0\n",
              "min        0.006000  1.316030e+06  ...     38.904981      1.0\n",
              "25%        0.474000  1.445706e+06  ...     38.982486      1.0\n",
              "50%        0.715000  1.520190e+06  ...     38.987744      1.0\n",
              "75%        1.006000  1.589707e+06  ...     38.992902      1.0\n",
              "max    11812.447000  1.642427e+06  ...     39.528800      1.0\n",
              "\n",
              "[8 rows x 9 columns]"
            ]
          },
          "metadata": {
            "tags": []
          },
          "execution_count": 104
        }
      ]
    },
    {
      "cell_type": "code",
      "metadata": {
        "colab": {
          "base_uri": "https://localhost:8080/"
        },
        "id": "7IZ7cRJYJD2N",
        "outputId": "e0752cba-9c0e-4832-8a38-83b50d0e161d"
      },
      "source": [
        "c=oct19[['END LAT','END LONG']]\n",
        "print(c)\n",
        "v=c.value_counts()\n",
        "v"
      ],
      "execution_count": null,
      "outputs": [
        {
          "output_type": "stream",
          "text": [
            "         END LAT   END LONG\n",
            "239    38.992995 -76.933048\n",
            "240    38.993253 -76.946110\n",
            "241    39.002287 -76.942077\n",
            "242    38.993162 -76.946191\n",
            "243    39.001886 -76.941957\n",
            "...          ...        ...\n",
            "38381  38.993187 -76.946178\n",
            "38382  38.993269 -76.946144\n",
            "38383  38.990593 -76.934028\n",
            "38384  38.978320 -76.929246\n",
            "38385  38.990621 -76.934171\n",
            "\n",
            "[17657 rows x 2 columns]\n"
          ],
          "name": "stdout"
        },
        {
          "output_type": "execute_result",
          "data": {
            "text/plain": [
              "END LAT    END LONG  \n",
              "38.982561  -76.943550    7\n",
              "38.982575  -76.943728    4\n",
              "38.982432  -76.943613    3\n",
              "38.993066  -76.946279    3\n",
              "38.979034  -76.939941    3\n",
              "                        ..\n",
              "38.990676  -76.934017    1\n",
              "           -76.934163    1\n",
              "           -76.934159    1\n",
              "38.990675  -76.934050    1\n",
              "38.904981  -77.042210    1\n",
              "Length: 17567, dtype: int64"
            ]
          },
          "metadata": {
            "tags": []
          },
          "execution_count": 105
        }
      ]
    },
    {
      "cell_type": "code",
      "metadata": {
        "colab": {
          "base_uri": "https://localhost:8080/"
        },
        "id": "YsFFgL34Jm1x",
        "outputId": "210abd20-d6e5-4490-93b0-3ca1d6063091"
      },
      "source": [
        "s=oct19[['START LAT','START LONG']]\n",
        "print(s)\n",
        "x=s.value_counts()\n",
        "x"
      ],
      "execution_count": null,
      "outputs": [
        {
          "output_type": "stream",
          "text": [
            "       START LAT  START LONG\n",
            "239    38.990585  -76.934334\n",
            "240    38.985183  -76.942697\n",
            "241    38.990022  -76.940788\n",
            "242    38.981604  -76.937635\n",
            "243    38.993068  -76.945771\n",
            "...          ...         ...\n",
            "38381  38.982444  -76.943574\n",
            "38382  38.980939  -76.937579\n",
            "38383  38.978389  -76.927651\n",
            "38384  38.978320  -76.929246\n",
            "38385  38.982431  -76.943563\n",
            "\n",
            "[17657 rows x 2 columns]\n"
          ],
          "name": "stdout"
        },
        {
          "output_type": "execute_result",
          "data": {
            "text/plain": [
              "START LAT  START LONG\n",
              "38.982561  -76.943550    7\n",
              "38.982432  -76.943613    4\n",
              "38.982575  -76.943728    4\n",
              "38.989981  -76.940823    3\n",
              "38.990700  -76.934128    3\n",
              "                        ..\n",
              "38.990678  -76.934035    1\n",
              "           -76.934087    1\n",
              "           -76.933962    1\n",
              "38.990677  -76.934169    1\n",
              "38.955716  -76.939235    1\n",
              "Length: 17499, dtype: int64"
            ]
          },
          "metadata": {
            "tags": []
          },
          "execution_count": 107
        }
      ]
    },
    {
      "cell_type": "code",
      "metadata": {
        "colab": {
          "base_uri": "https://localhost:8080/",
          "height": 445
        },
        "id": "mWID1NXtJ1hg",
        "outputId": "8cd8b493-02cd-46cd-8ac9-ff8e817a4aa2"
      },
      "source": [
        "center = [38.989981, -76.940823]\n",
        "\n",
        "m = folium.Map(location=center, zoom_start=13, tiles=\"Stamen Terrain\")\n",
        "\n",
        "folium.Marker(\n",
        "    location=center,\n",
        "    popup=\"College Park\",\n",
        "    icon=folium.Icon(icon=\"info-sign\"),\n",
        ").add_to(m)\n",
        "\n",
        "folium.Circle(\n",
        "    radius=150,\n",
        "    location=center,\n",
        "    popup=\"College Park Area\",\n",
        "    color=\"crimson\",\n",
        "    fill=False,\n",
        ").add_to(m)\n",
        "\n",
        "m.save(\"index.html\")\n",
        "m"
      ],
      "execution_count": null,
      "outputs": [
        {
          "output_type": "execute_result",
          "data": {
            "text/html": [
              "<div style=\"width:100%;\"><div style=\"position:relative;width:100%;height:0;padding-bottom:60%;\"><span style=\"color:#565656\">Make this Notebook Trusted to load map: File -> Trust Notebook</span><iframe src=\"about:blank\" style=\"position:absolute;width:100%;height:100%;left:0;top:0;border:none !important;\" data-html=%3C%21DOCTYPE%20html%3E%0A%3Chead%3E%20%20%20%20%0A%20%20%20%20%3Cmeta%20http-equiv%3D%22content-type%22%20content%3D%22text/html%3B%20charset%3DUTF-8%22%20/%3E%0A%20%20%20%20%3Cscript%3EL_PREFER_CANVAS%3Dfalse%3B%20L_NO_TOUCH%3Dfalse%3B%20L_DISABLE_3D%3Dfalse%3B%3C/script%3E%0A%20%20%20%20%3Cscript%20src%3D%22https%3A//cdn.jsdelivr.net/npm/leaflet%401.4.0/dist/leaflet.js%22%3E%3C/script%3E%0A%20%20%20%20%3Cscript%20src%3D%22https%3A//code.jquery.com/jquery-1.12.4.min.js%22%3E%3C/script%3E%0A%20%20%20%20%3Cscript%20src%3D%22https%3A//maxcdn.bootstrapcdn.com/bootstrap/3.2.0/js/bootstrap.min.js%22%3E%3C/script%3E%0A%20%20%20%20%3Cscript%20src%3D%22https%3A//cdnjs.cloudflare.com/ajax/libs/Leaflet.awesome-markers/2.0.2/leaflet.awesome-markers.js%22%3E%3C/script%3E%0A%20%20%20%20%3Clink%20rel%3D%22stylesheet%22%20href%3D%22https%3A//cdn.jsdelivr.net/npm/leaflet%401.4.0/dist/leaflet.css%22/%3E%0A%20%20%20%20%3Clink%20rel%3D%22stylesheet%22%20href%3D%22https%3A//maxcdn.bootstrapcdn.com/bootstrap/3.2.0/css/bootstrap.min.css%22/%3E%0A%20%20%20%20%3Clink%20rel%3D%22stylesheet%22%20href%3D%22https%3A//maxcdn.bootstrapcdn.com/bootstrap/3.2.0/css/bootstrap-theme.min.css%22/%3E%0A%20%20%20%20%3Clink%20rel%3D%22stylesheet%22%20href%3D%22https%3A//maxcdn.bootstrapcdn.com/font-awesome/4.6.3/css/font-awesome.min.css%22/%3E%0A%20%20%20%20%3Clink%20rel%3D%22stylesheet%22%20href%3D%22https%3A//cdnjs.cloudflare.com/ajax/libs/Leaflet.awesome-markers/2.0.2/leaflet.awesome-markers.css%22/%3E%0A%20%20%20%20%3Clink%20rel%3D%22stylesheet%22%20href%3D%22https%3A//rawcdn.githack.com/python-visualization/folium/master/folium/templates/leaflet.awesome.rotate.css%22/%3E%0A%20%20%20%20%3Cstyle%3Ehtml%2C%20body%20%7Bwidth%3A%20100%25%3Bheight%3A%20100%25%3Bmargin%3A%200%3Bpadding%3A%200%3B%7D%3C/style%3E%0A%20%20%20%20%3Cstyle%3E%23map%20%7Bposition%3Aabsolute%3Btop%3A0%3Bbottom%3A0%3Bright%3A0%3Bleft%3A0%3B%7D%3C/style%3E%0A%20%20%20%20%0A%20%20%20%20%3Cmeta%20name%3D%22viewport%22%20content%3D%22width%3Ddevice-width%2C%0A%20%20%20%20%20%20%20%20initial-scale%3D1.0%2C%20maximum-scale%3D1.0%2C%20user-scalable%3Dno%22%20/%3E%0A%20%20%20%20%3Cstyle%3E%23map_2ba92668230a4006a801fd48d2b5b65a%20%7B%0A%20%20%20%20%20%20%20%20position%3A%20relative%3B%0A%20%20%20%20%20%20%20%20width%3A%20100.0%25%3B%0A%20%20%20%20%20%20%20%20height%3A%20100.0%25%3B%0A%20%20%20%20%20%20%20%20left%3A%200.0%25%3B%0A%20%20%20%20%20%20%20%20top%3A%200.0%25%3B%0A%20%20%20%20%20%20%20%20%7D%0A%20%20%20%20%3C/style%3E%0A%3C/head%3E%0A%3Cbody%3E%20%20%20%20%0A%20%20%20%20%0A%20%20%20%20%3Cdiv%20class%3D%22folium-map%22%20id%3D%22map_2ba92668230a4006a801fd48d2b5b65a%22%20%3E%3C/div%3E%0A%3C/body%3E%0A%3Cscript%3E%20%20%20%20%0A%20%20%20%20%0A%20%20%20%20%0A%20%20%20%20%20%20%20%20var%20bounds%20%3D%20null%3B%0A%20%20%20%20%0A%0A%20%20%20%20var%20map_2ba92668230a4006a801fd48d2b5b65a%20%3D%20L.map%28%0A%20%20%20%20%20%20%20%20%27map_2ba92668230a4006a801fd48d2b5b65a%27%2C%20%7B%0A%20%20%20%20%20%20%20%20center%3A%20%5B38.989981%2C%20-76.940823%5D%2C%0A%20%20%20%20%20%20%20%20zoom%3A%2013%2C%0A%20%20%20%20%20%20%20%20maxBounds%3A%20bounds%2C%0A%20%20%20%20%20%20%20%20layers%3A%20%5B%5D%2C%0A%20%20%20%20%20%20%20%20worldCopyJump%3A%20false%2C%0A%20%20%20%20%20%20%20%20crs%3A%20L.CRS.EPSG3857%2C%0A%20%20%20%20%20%20%20%20zoomControl%3A%20true%2C%0A%20%20%20%20%20%20%20%20%7D%29%3B%0A%0A%0A%20%20%20%20%0A%20%20%20%20var%20tile_layer_0cd504c859f14ea1bad64ec779e783de%20%3D%20L.tileLayer%28%0A%20%20%20%20%20%20%20%20%27https%3A//stamen-tiles-%7Bs%7D.a.ssl.fastly.net/terrain/%7Bz%7D/%7Bx%7D/%7By%7D.jpg%27%2C%0A%20%20%20%20%20%20%20%20%7B%0A%20%20%20%20%20%20%20%20%22attribution%22%3A%20null%2C%0A%20%20%20%20%20%20%20%20%22detectRetina%22%3A%20false%2C%0A%20%20%20%20%20%20%20%20%22maxNativeZoom%22%3A%2018%2C%0A%20%20%20%20%20%20%20%20%22maxZoom%22%3A%2018%2C%0A%20%20%20%20%20%20%20%20%22minZoom%22%3A%200%2C%0A%20%20%20%20%20%20%20%20%22noWrap%22%3A%20false%2C%0A%20%20%20%20%20%20%20%20%22opacity%22%3A%201%2C%0A%20%20%20%20%20%20%20%20%22subdomains%22%3A%20%22abc%22%2C%0A%20%20%20%20%20%20%20%20%22tms%22%3A%20false%0A%7D%29.addTo%28map_2ba92668230a4006a801fd48d2b5b65a%29%3B%0A%20%20%20%20%0A%20%20%20%20%20%20%20%20var%20marker_bd03f231db7a43a99e836649b5992de3%20%3D%20L.marker%28%0A%20%20%20%20%20%20%20%20%20%20%20%20%5B38.989981%2C%20-76.940823%5D%2C%0A%20%20%20%20%20%20%20%20%20%20%20%20%7B%0A%20%20%20%20%20%20%20%20%20%20%20%20%20%20%20%20icon%3A%20new%20L.Icon.Default%28%29%2C%0A%20%20%20%20%20%20%20%20%20%20%20%20%20%20%20%20%7D%0A%20%20%20%20%20%20%20%20%20%20%20%20%29.addTo%28map_2ba92668230a4006a801fd48d2b5b65a%29%3B%0A%20%20%20%20%20%20%20%20%0A%20%20%20%20%0A%0A%20%20%20%20%20%20%20%20%20%20%20%20%20%20%20%20var%20icon_5957adc0e7fd4b4b9f1f6e3d7c1c37ea%20%3D%20L.AwesomeMarkers.icon%28%7B%0A%20%20%20%20%20%20%20%20%20%20%20%20%20%20%20%20%20%20%20%20icon%3A%20%27info-sign%27%2C%0A%20%20%20%20%20%20%20%20%20%20%20%20%20%20%20%20%20%20%20%20iconColor%3A%20%27white%27%2C%0A%20%20%20%20%20%20%20%20%20%20%20%20%20%20%20%20%20%20%20%20markerColor%3A%20%27blue%27%2C%0A%20%20%20%20%20%20%20%20%20%20%20%20%20%20%20%20%20%20%20%20prefix%3A%20%27glyphicon%27%2C%0A%20%20%20%20%20%20%20%20%20%20%20%20%20%20%20%20%20%20%20%20extraClasses%3A%20%27fa-rotate-0%27%0A%20%20%20%20%20%20%20%20%20%20%20%20%20%20%20%20%20%20%20%20%7D%29%3B%0A%20%20%20%20%20%20%20%20%20%20%20%20%20%20%20%20marker_bd03f231db7a43a99e836649b5992de3.setIcon%28icon_5957adc0e7fd4b4b9f1f6e3d7c1c37ea%29%3B%0A%20%20%20%20%20%20%20%20%20%20%20%20%0A%20%20%20%20%0A%20%20%20%20%20%20%20%20%20%20%20%20var%20popup_0933fb2ced194e9ea17325219ea34835%20%3D%20L.popup%28%7BmaxWidth%3A%20%27100%25%27%0A%20%20%20%20%20%20%20%20%20%20%20%20%0A%20%20%20%20%20%20%20%20%20%20%20%20%7D%29%3B%0A%0A%20%20%20%20%20%20%20%20%20%20%20%20%0A%20%20%20%20%20%20%20%20%20%20%20%20%20%20%20%20var%20html_1638678ca2ce4006896ed0731cbcd64f%20%3D%20%24%28%60%3Cdiv%20id%3D%22html_1638678ca2ce4006896ed0731cbcd64f%22%20style%3D%22width%3A%20100.0%25%3B%20height%3A%20100.0%25%3B%22%3ECollege%20Park%3C/div%3E%60%29%5B0%5D%3B%0A%20%20%20%20%20%20%20%20%20%20%20%20%20%20%20%20popup_0933fb2ced194e9ea17325219ea34835.setContent%28html_1638678ca2ce4006896ed0731cbcd64f%29%3B%0A%20%20%20%20%20%20%20%20%20%20%20%20%0A%0A%20%20%20%20%20%20%20%20%20%20%20%20marker_bd03f231db7a43a99e836649b5992de3.bindPopup%28popup_0933fb2ced194e9ea17325219ea34835%29%0A%20%20%20%20%20%20%20%20%20%20%20%20%3B%0A%0A%20%20%20%20%20%20%20%20%20%20%20%20%0A%20%20%20%20%20%20%20%20%0A%20%20%20%20%0A%0A%20%20%20%20%20%20%20%20%20%20%20%20var%20circle_5b9622270d01457d8926a286250a7e37%20%3D%20L.circle%28%0A%20%20%20%20%20%20%20%20%20%20%20%20%20%20%20%20%5B38.989981%2C%20-76.940823%5D%2C%0A%20%20%20%20%20%20%20%20%20%20%20%20%20%20%20%20%7B%0A%20%20%22bubblingMouseEvents%22%3A%20true%2C%0A%20%20%22color%22%3A%20%22crimson%22%2C%0A%20%20%22dashArray%22%3A%20null%2C%0A%20%20%22dashOffset%22%3A%20null%2C%0A%20%20%22fill%22%3A%20false%2C%0A%20%20%22fillColor%22%3A%20%22crimson%22%2C%0A%20%20%22fillOpacity%22%3A%200.2%2C%0A%20%20%22fillRule%22%3A%20%22evenodd%22%2C%0A%20%20%22lineCap%22%3A%20%22round%22%2C%0A%20%20%22lineJoin%22%3A%20%22round%22%2C%0A%20%20%22opacity%22%3A%201.0%2C%0A%20%20%22radius%22%3A%20150%2C%0A%20%20%22stroke%22%3A%20true%2C%0A%20%20%22weight%22%3A%203%0A%7D%0A%20%20%20%20%20%20%20%20%20%20%20%20%20%20%20%20%29%0A%20%20%20%20%20%20%20%20%20%20%20%20%20%20%20%20.addTo%28map_2ba92668230a4006a801fd48d2b5b65a%29%3B%0A%20%20%20%20%20%20%20%20%20%20%20%20%0A%20%20%20%20%0A%20%20%20%20%20%20%20%20%20%20%20%20var%20popup_070020c81dee4dda9e0530dbb0ce3680%20%3D%20L.popup%28%7BmaxWidth%3A%20%27100%25%27%0A%20%20%20%20%20%20%20%20%20%20%20%20%0A%20%20%20%20%20%20%20%20%20%20%20%20%7D%29%3B%0A%0A%20%20%20%20%20%20%20%20%20%20%20%20%0A%20%20%20%20%20%20%20%20%20%20%20%20%20%20%20%20var%20html_69bf20014c734bfabd75d3f50265c1dc%20%3D%20%24%28%60%3Cdiv%20id%3D%22html_69bf20014c734bfabd75d3f50265c1dc%22%20style%3D%22width%3A%20100.0%25%3B%20height%3A%20100.0%25%3B%22%3ECollege%20Park%20Area%3C/div%3E%60%29%5B0%5D%3B%0A%20%20%20%20%20%20%20%20%20%20%20%20%20%20%20%20popup_070020c81dee4dda9e0530dbb0ce3680.setContent%28html_69bf20014c734bfabd75d3f50265c1dc%29%3B%0A%20%20%20%20%20%20%20%20%20%20%20%20%0A%0A%20%20%20%20%20%20%20%20%20%20%20%20circle_5b9622270d01457d8926a286250a7e37.bindPopup%28popup_070020c81dee4dda9e0530dbb0ce3680%29%0A%20%20%20%20%20%20%20%20%20%20%20%20%3B%0A%0A%20%20%20%20%20%20%20%20%20%20%20%20%0A%20%20%20%20%20%20%20%20%0A%3C/script%3E onload=\"this.contentDocument.open();this.contentDocument.write(    decodeURIComponent(this.getAttribute('data-html')));this.contentDocument.close();\" allowfullscreen webkitallowfullscreen mozallowfullscreen></iframe></div></div>"
            ],
            "text/plain": [
              "<folium.folium.Map at 0x7ff0d3494d90>"
            ]
          },
          "metadata": {
            "tags": []
          },
          "execution_count": 111
        }
      ]
    },
    {
      "cell_type": "code",
      "metadata": {
        "id": "1pDQ5Mg7KQ-S"
      },
      "source": [
        "#"
      ],
      "execution_count": null,
      "outputs": []
    }
  ]
}